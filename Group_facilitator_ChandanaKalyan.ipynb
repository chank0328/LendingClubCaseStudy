{
 "cells": [
  {
   "cell_type": "markdown",
   "id": "0948f9a0-2d65-4024-a846-0ace3a881410",
   "metadata": {},
   "source": [
    "# Lending Club- Case Study\n",
    "# Submitted by: Chandana Kalyan & Sri Krishna Hari"
   ]
  },
  {
   "cell_type": "code",
   "execution_count": 987,
   "id": "64a1e792-5875-4181-a393-11ee72ae7d04",
   "metadata": {},
   "outputs": [],
   "source": [
    "import numpy as np\n",
    "import pandas as pd\n",
    "import matplotlib.pyplot as plt\n"
   ]
  },
  {
   "cell_type": "code",
   "execution_count": 988,
   "id": "528af9d9-a854-406e-94a5-120faed66b3f",
   "metadata": {},
   "outputs": [
    {
     "name": "stderr",
     "output_type": "stream",
     "text": [
      "/var/folders/ld/knz66s750qgb_2by_6ff63sm0000gp/T/ipykernel_4916/606419370.py:2: DtypeWarning: Columns (47) have mixed types. Specify dtype option on import or set low_memory=False.\n",
      "  loan_data_df = pd.read_csv(\"loan.csv\")\n"
     ]
    }
   ],
   "source": [
    "#importing dataset\n",
    "loan_data_df = pd.read_csv(\"loan.csv\")"
   ]
  },
  {
   "cell_type": "code",
   "execution_count": 989,
   "id": "3adbdaae-a2c7-421d-9493-53b87471adc2",
   "metadata": {},
   "outputs": [
    {
     "data": {
      "text/html": [
       "<div>\n",
       "<style scoped>\n",
       "    .dataframe tbody tr th:only-of-type {\n",
       "        vertical-align: middle;\n",
       "    }\n",
       "\n",
       "    .dataframe tbody tr th {\n",
       "        vertical-align: top;\n",
       "    }\n",
       "\n",
       "    .dataframe thead th {\n",
       "        text-align: right;\n",
       "    }\n",
       "</style>\n",
       "<table border=\"1\" class=\"dataframe\">\n",
       "  <thead>\n",
       "    <tr style=\"text-align: right;\">\n",
       "      <th></th>\n",
       "      <th>id</th>\n",
       "      <th>member_id</th>\n",
       "      <th>loan_amnt</th>\n",
       "      <th>funded_amnt</th>\n",
       "      <th>funded_amnt_inv</th>\n",
       "      <th>term</th>\n",
       "      <th>int_rate</th>\n",
       "      <th>installment</th>\n",
       "      <th>grade</th>\n",
       "      <th>sub_grade</th>\n",
       "      <th>...</th>\n",
       "      <th>num_tl_90g_dpd_24m</th>\n",
       "      <th>num_tl_op_past_12m</th>\n",
       "      <th>pct_tl_nvr_dlq</th>\n",
       "      <th>percent_bc_gt_75</th>\n",
       "      <th>pub_rec_bankruptcies</th>\n",
       "      <th>tax_liens</th>\n",
       "      <th>tot_hi_cred_lim</th>\n",
       "      <th>total_bal_ex_mort</th>\n",
       "      <th>total_bc_limit</th>\n",
       "      <th>total_il_high_credit_limit</th>\n",
       "    </tr>\n",
       "  </thead>\n",
       "  <tbody>\n",
       "    <tr>\n",
       "      <th>0</th>\n",
       "      <td>1077501</td>\n",
       "      <td>1296599</td>\n",
       "      <td>5000</td>\n",
       "      <td>5000</td>\n",
       "      <td>4975.00</td>\n",
       "      <td>36 months</td>\n",
       "      <td>10.65%</td>\n",
       "      <td>162.87</td>\n",
       "      <td>B</td>\n",
       "      <td>B2</td>\n",
       "      <td>...</td>\n",
       "      <td>NaN</td>\n",
       "      <td>NaN</td>\n",
       "      <td>NaN</td>\n",
       "      <td>NaN</td>\n",
       "      <td>0.00</td>\n",
       "      <td>0.00</td>\n",
       "      <td>NaN</td>\n",
       "      <td>NaN</td>\n",
       "      <td>NaN</td>\n",
       "      <td>NaN</td>\n",
       "    </tr>\n",
       "    <tr>\n",
       "      <th>1</th>\n",
       "      <td>1077430</td>\n",
       "      <td>1314167</td>\n",
       "      <td>2500</td>\n",
       "      <td>2500</td>\n",
       "      <td>2500.00</td>\n",
       "      <td>60 months</td>\n",
       "      <td>15.27%</td>\n",
       "      <td>59.83</td>\n",
       "      <td>C</td>\n",
       "      <td>C4</td>\n",
       "      <td>...</td>\n",
       "      <td>NaN</td>\n",
       "      <td>NaN</td>\n",
       "      <td>NaN</td>\n",
       "      <td>NaN</td>\n",
       "      <td>0.00</td>\n",
       "      <td>0.00</td>\n",
       "      <td>NaN</td>\n",
       "      <td>NaN</td>\n",
       "      <td>NaN</td>\n",
       "      <td>NaN</td>\n",
       "    </tr>\n",
       "    <tr>\n",
       "      <th>2</th>\n",
       "      <td>1077175</td>\n",
       "      <td>1313524</td>\n",
       "      <td>2400</td>\n",
       "      <td>2400</td>\n",
       "      <td>2400.00</td>\n",
       "      <td>36 months</td>\n",
       "      <td>15.96%</td>\n",
       "      <td>84.33</td>\n",
       "      <td>C</td>\n",
       "      <td>C5</td>\n",
       "      <td>...</td>\n",
       "      <td>NaN</td>\n",
       "      <td>NaN</td>\n",
       "      <td>NaN</td>\n",
       "      <td>NaN</td>\n",
       "      <td>0.00</td>\n",
       "      <td>0.00</td>\n",
       "      <td>NaN</td>\n",
       "      <td>NaN</td>\n",
       "      <td>NaN</td>\n",
       "      <td>NaN</td>\n",
       "    </tr>\n",
       "    <tr>\n",
       "      <th>3</th>\n",
       "      <td>1076863</td>\n",
       "      <td>1277178</td>\n",
       "      <td>10000</td>\n",
       "      <td>10000</td>\n",
       "      <td>10000.00</td>\n",
       "      <td>36 months</td>\n",
       "      <td>13.49%</td>\n",
       "      <td>339.31</td>\n",
       "      <td>C</td>\n",
       "      <td>C1</td>\n",
       "      <td>...</td>\n",
       "      <td>NaN</td>\n",
       "      <td>NaN</td>\n",
       "      <td>NaN</td>\n",
       "      <td>NaN</td>\n",
       "      <td>0.00</td>\n",
       "      <td>0.00</td>\n",
       "      <td>NaN</td>\n",
       "      <td>NaN</td>\n",
       "      <td>NaN</td>\n",
       "      <td>NaN</td>\n",
       "    </tr>\n",
       "    <tr>\n",
       "      <th>4</th>\n",
       "      <td>1075358</td>\n",
       "      <td>1311748</td>\n",
       "      <td>3000</td>\n",
       "      <td>3000</td>\n",
       "      <td>3000.00</td>\n",
       "      <td>60 months</td>\n",
       "      <td>12.69%</td>\n",
       "      <td>67.79</td>\n",
       "      <td>B</td>\n",
       "      <td>B5</td>\n",
       "      <td>...</td>\n",
       "      <td>NaN</td>\n",
       "      <td>NaN</td>\n",
       "      <td>NaN</td>\n",
       "      <td>NaN</td>\n",
       "      <td>0.00</td>\n",
       "      <td>0.00</td>\n",
       "      <td>NaN</td>\n",
       "      <td>NaN</td>\n",
       "      <td>NaN</td>\n",
       "      <td>NaN</td>\n",
       "    </tr>\n",
       "  </tbody>\n",
       "</table>\n",
       "<p>5 rows × 111 columns</p>\n",
       "</div>"
      ],
      "text/plain": [
       "        id  member_id  loan_amnt  funded_amnt  funded_amnt_inv        term  \\\n",
       "0  1077501    1296599       5000         5000          4975.00   36 months   \n",
       "1  1077430    1314167       2500         2500          2500.00   60 months   \n",
       "2  1077175    1313524       2400         2400          2400.00   36 months   \n",
       "3  1076863    1277178      10000        10000         10000.00   36 months   \n",
       "4  1075358    1311748       3000         3000          3000.00   60 months   \n",
       "\n",
       "  int_rate  installment grade sub_grade  ... num_tl_90g_dpd_24m  \\\n",
       "0   10.65%       162.87     B        B2  ...                NaN   \n",
       "1   15.27%        59.83     C        C4  ...                NaN   \n",
       "2   15.96%        84.33     C        C5  ...                NaN   \n",
       "3   13.49%       339.31     C        C1  ...                NaN   \n",
       "4   12.69%        67.79     B        B5  ...                NaN   \n",
       "\n",
       "  num_tl_op_past_12m pct_tl_nvr_dlq  percent_bc_gt_75 pub_rec_bankruptcies  \\\n",
       "0                NaN            NaN               NaN                 0.00   \n",
       "1                NaN            NaN               NaN                 0.00   \n",
       "2                NaN            NaN               NaN                 0.00   \n",
       "3                NaN            NaN               NaN                 0.00   \n",
       "4                NaN            NaN               NaN                 0.00   \n",
       "\n",
       "  tax_liens tot_hi_cred_lim total_bal_ex_mort total_bc_limit  \\\n",
       "0      0.00             NaN               NaN            NaN   \n",
       "1      0.00             NaN               NaN            NaN   \n",
       "2      0.00             NaN               NaN            NaN   \n",
       "3      0.00             NaN               NaN            NaN   \n",
       "4      0.00             NaN               NaN            NaN   \n",
       "\n",
       "  total_il_high_credit_limit  \n",
       "0                        NaN  \n",
       "1                        NaN  \n",
       "2                        NaN  \n",
       "3                        NaN  \n",
       "4                        NaN  \n",
       "\n",
       "[5 rows x 111 columns]"
      ]
     },
     "execution_count": 989,
     "metadata": {},
     "output_type": "execute_result"
    }
   ],
   "source": [
    "#previewing dataset\n",
    "loan_data_df.head()"
   ]
  },
  {
   "cell_type": "code",
   "execution_count": 990,
   "id": "57afb8e0-9b03-4de9-9950-5d437bbee65c",
   "metadata": {},
   "outputs": [
    {
     "data": {
      "text/html": [
       "<div>\n",
       "<style scoped>\n",
       "    .dataframe tbody tr th:only-of-type {\n",
       "        vertical-align: middle;\n",
       "    }\n",
       "\n",
       "    .dataframe tbody tr th {\n",
       "        vertical-align: top;\n",
       "    }\n",
       "\n",
       "    .dataframe thead th {\n",
       "        text-align: right;\n",
       "    }\n",
       "</style>\n",
       "<table border=\"1\" class=\"dataframe\">\n",
       "  <thead>\n",
       "    <tr style=\"text-align: right;\">\n",
       "      <th></th>\n",
       "      <th>id</th>\n",
       "      <th>member_id</th>\n",
       "      <th>loan_amnt</th>\n",
       "      <th>funded_amnt</th>\n",
       "      <th>funded_amnt_inv</th>\n",
       "      <th>term</th>\n",
       "      <th>int_rate</th>\n",
       "      <th>installment</th>\n",
       "      <th>grade</th>\n",
       "      <th>sub_grade</th>\n",
       "      <th>...</th>\n",
       "      <th>num_tl_90g_dpd_24m</th>\n",
       "      <th>num_tl_op_past_12m</th>\n",
       "      <th>pct_tl_nvr_dlq</th>\n",
       "      <th>percent_bc_gt_75</th>\n",
       "      <th>pub_rec_bankruptcies</th>\n",
       "      <th>tax_liens</th>\n",
       "      <th>tot_hi_cred_lim</th>\n",
       "      <th>total_bal_ex_mort</th>\n",
       "      <th>total_bc_limit</th>\n",
       "      <th>total_il_high_credit_limit</th>\n",
       "    </tr>\n",
       "  </thead>\n",
       "  <tbody>\n",
       "    <tr>\n",
       "      <th>39712</th>\n",
       "      <td>92187</td>\n",
       "      <td>92174</td>\n",
       "      <td>2500</td>\n",
       "      <td>2500</td>\n",
       "      <td>1075.00</td>\n",
       "      <td>36 months</td>\n",
       "      <td>8.07%</td>\n",
       "      <td>78.42</td>\n",
       "      <td>A</td>\n",
       "      <td>A4</td>\n",
       "      <td>...</td>\n",
       "      <td>NaN</td>\n",
       "      <td>NaN</td>\n",
       "      <td>NaN</td>\n",
       "      <td>NaN</td>\n",
       "      <td>NaN</td>\n",
       "      <td>NaN</td>\n",
       "      <td>NaN</td>\n",
       "      <td>NaN</td>\n",
       "      <td>NaN</td>\n",
       "      <td>NaN</td>\n",
       "    </tr>\n",
       "    <tr>\n",
       "      <th>39713</th>\n",
       "      <td>90665</td>\n",
       "      <td>90607</td>\n",
       "      <td>8500</td>\n",
       "      <td>8500</td>\n",
       "      <td>875.00</td>\n",
       "      <td>36 months</td>\n",
       "      <td>10.28%</td>\n",
       "      <td>275.38</td>\n",
       "      <td>C</td>\n",
       "      <td>C1</td>\n",
       "      <td>...</td>\n",
       "      <td>NaN</td>\n",
       "      <td>NaN</td>\n",
       "      <td>NaN</td>\n",
       "      <td>NaN</td>\n",
       "      <td>NaN</td>\n",
       "      <td>NaN</td>\n",
       "      <td>NaN</td>\n",
       "      <td>NaN</td>\n",
       "      <td>NaN</td>\n",
       "      <td>NaN</td>\n",
       "    </tr>\n",
       "    <tr>\n",
       "      <th>39714</th>\n",
       "      <td>90395</td>\n",
       "      <td>90390</td>\n",
       "      <td>5000</td>\n",
       "      <td>5000</td>\n",
       "      <td>1325.00</td>\n",
       "      <td>36 months</td>\n",
       "      <td>8.07%</td>\n",
       "      <td>156.84</td>\n",
       "      <td>A</td>\n",
       "      <td>A4</td>\n",
       "      <td>...</td>\n",
       "      <td>NaN</td>\n",
       "      <td>NaN</td>\n",
       "      <td>NaN</td>\n",
       "      <td>NaN</td>\n",
       "      <td>NaN</td>\n",
       "      <td>NaN</td>\n",
       "      <td>NaN</td>\n",
       "      <td>NaN</td>\n",
       "      <td>NaN</td>\n",
       "      <td>NaN</td>\n",
       "    </tr>\n",
       "    <tr>\n",
       "      <th>39715</th>\n",
       "      <td>90376</td>\n",
       "      <td>89243</td>\n",
       "      <td>5000</td>\n",
       "      <td>5000</td>\n",
       "      <td>650.00</td>\n",
       "      <td>36 months</td>\n",
       "      <td>7.43%</td>\n",
       "      <td>155.38</td>\n",
       "      <td>A</td>\n",
       "      <td>A2</td>\n",
       "      <td>...</td>\n",
       "      <td>NaN</td>\n",
       "      <td>NaN</td>\n",
       "      <td>NaN</td>\n",
       "      <td>NaN</td>\n",
       "      <td>NaN</td>\n",
       "      <td>NaN</td>\n",
       "      <td>NaN</td>\n",
       "      <td>NaN</td>\n",
       "      <td>NaN</td>\n",
       "      <td>NaN</td>\n",
       "    </tr>\n",
       "    <tr>\n",
       "      <th>39716</th>\n",
       "      <td>87023</td>\n",
       "      <td>86999</td>\n",
       "      <td>7500</td>\n",
       "      <td>7500</td>\n",
       "      <td>800.00</td>\n",
       "      <td>36 months</td>\n",
       "      <td>13.75%</td>\n",
       "      <td>255.43</td>\n",
       "      <td>E</td>\n",
       "      <td>E2</td>\n",
       "      <td>...</td>\n",
       "      <td>NaN</td>\n",
       "      <td>NaN</td>\n",
       "      <td>NaN</td>\n",
       "      <td>NaN</td>\n",
       "      <td>NaN</td>\n",
       "      <td>NaN</td>\n",
       "      <td>NaN</td>\n",
       "      <td>NaN</td>\n",
       "      <td>NaN</td>\n",
       "      <td>NaN</td>\n",
       "    </tr>\n",
       "  </tbody>\n",
       "</table>\n",
       "<p>5 rows × 111 columns</p>\n",
       "</div>"
      ],
      "text/plain": [
       "          id  member_id  loan_amnt  funded_amnt  funded_amnt_inv        term  \\\n",
       "39712  92187      92174       2500         2500          1075.00   36 months   \n",
       "39713  90665      90607       8500         8500           875.00   36 months   \n",
       "39714  90395      90390       5000         5000          1325.00   36 months   \n",
       "39715  90376      89243       5000         5000           650.00   36 months   \n",
       "39716  87023      86999       7500         7500           800.00   36 months   \n",
       "\n",
       "      int_rate  installment grade sub_grade  ... num_tl_90g_dpd_24m  \\\n",
       "39712    8.07%        78.42     A        A4  ...                NaN   \n",
       "39713   10.28%       275.38     C        C1  ...                NaN   \n",
       "39714    8.07%       156.84     A        A4  ...                NaN   \n",
       "39715    7.43%       155.38     A        A2  ...                NaN   \n",
       "39716   13.75%       255.43     E        E2  ...                NaN   \n",
       "\n",
       "      num_tl_op_past_12m pct_tl_nvr_dlq  percent_bc_gt_75  \\\n",
       "39712                NaN            NaN               NaN   \n",
       "39713                NaN            NaN               NaN   \n",
       "39714                NaN            NaN               NaN   \n",
       "39715                NaN            NaN               NaN   \n",
       "39716                NaN            NaN               NaN   \n",
       "\n",
       "      pub_rec_bankruptcies tax_liens tot_hi_cred_lim total_bal_ex_mort  \\\n",
       "39712                  NaN       NaN             NaN               NaN   \n",
       "39713                  NaN       NaN             NaN               NaN   \n",
       "39714                  NaN       NaN             NaN               NaN   \n",
       "39715                  NaN       NaN             NaN               NaN   \n",
       "39716                  NaN       NaN             NaN               NaN   \n",
       "\n",
       "      total_bc_limit total_il_high_credit_limit  \n",
       "39712            NaN                        NaN  \n",
       "39713            NaN                        NaN  \n",
       "39714            NaN                        NaN  \n",
       "39715            NaN                        NaN  \n",
       "39716            NaN                        NaN  \n",
       "\n",
       "[5 rows x 111 columns]"
      ]
     },
     "execution_count": 990,
     "metadata": {},
     "output_type": "execute_result"
    }
   ],
   "source": [
    "loan_data_df.tail()"
   ]
  },
  {
   "cell_type": "code",
   "execution_count": 991,
   "id": "fc990dea-fb01-4d7b-aa8b-9fe7e1f5a817",
   "metadata": {},
   "outputs": [
    {
     "data": {
      "text/plain": [
       "(39717, 111)"
      ]
     },
     "execution_count": 991,
     "metadata": {},
     "output_type": "execute_result"
    }
   ],
   "source": [
    "loan_data_df.shape"
   ]
  },
  {
   "cell_type": "code",
   "execution_count": 992,
   "id": "fe5e83ad-6d8c-4fe0-b8a4-c66e01b54251",
   "metadata": {},
   "outputs": [
    {
     "data": {
      "text/plain": [
       "Index(['id', 'member_id', 'loan_amnt', 'funded_amnt', 'funded_amnt_inv',\n",
       "       'term', 'int_rate', 'installment', 'grade', 'sub_grade',\n",
       "       ...\n",
       "       'num_tl_90g_dpd_24m', 'num_tl_op_past_12m', 'pct_tl_nvr_dlq',\n",
       "       'percent_bc_gt_75', 'pub_rec_bankruptcies', 'tax_liens',\n",
       "       'tot_hi_cred_lim', 'total_bal_ex_mort', 'total_bc_limit',\n",
       "       'total_il_high_credit_limit'],\n",
       "      dtype='object', length=111)"
      ]
     },
     "execution_count": 992,
     "metadata": {},
     "output_type": "execute_result"
    }
   ],
   "source": [
    "loan_data_df.columns"
   ]
  },
  {
   "cell_type": "markdown",
   "id": "7af09f60-bf4d-4595-8b0f-09ffea5a9a5b",
   "metadata": {},
   "source": [
    "# Since we are analyzing defaulters' data, let's remove records that are currently paying loan"
   ]
  },
  {
   "cell_type": "code",
   "execution_count": 994,
   "id": "15ec482e-f134-4223-ac73-ff566dfb9d4d",
   "metadata": {},
   "outputs": [],
   "source": [
    "loan_data_df_updated= loan_data_df[loan_data_df['loan_status']!='Current']"
   ]
  },
  {
   "cell_type": "code",
   "execution_count": 995,
   "id": "8c0f52d2-805e-4b7d-bdeb-f3b44bd1bf9e",
   "metadata": {},
   "outputs": [
    {
     "data": {
      "text/plain": [
       "(38577, 111)"
      ]
     },
     "execution_count": 995,
     "metadata": {},
     "output_type": "execute_result"
    }
   ],
   "source": [
    "loan_data_df_updated.shape"
   ]
  },
  {
   "cell_type": "markdown",
   "id": "fb8111f0-b0dd-4655-ad1c-e1d35432b8ef",
   "metadata": {},
   "source": [
    "# REMOVING columns which mostly have null values"
   ]
  },
  {
   "cell_type": "code",
   "execution_count": 997,
   "id": "0e2b17f4-3ff4-4e3c-9430-63660d179de3",
   "metadata": {},
   "outputs": [
    {
     "data": {
      "text/plain": [
       "id                                0\n",
       "member_id                         0\n",
       "loan_amnt                         0\n",
       "funded_amnt                       0\n",
       "funded_amnt_inv                   0\n",
       "                              ...  \n",
       "tax_liens                        39\n",
       "tot_hi_cred_lim               38577\n",
       "total_bal_ex_mort             38577\n",
       "total_bc_limit                38577\n",
       "total_il_high_credit_limit    38577\n",
       "Length: 111, dtype: int64"
      ]
     },
     "execution_count": 997,
     "metadata": {},
     "output_type": "execute_result"
    }
   ],
   "source": [
    "loan_data_df_updated.isnull().sum()"
   ]
  },
  {
   "cell_type": "code",
   "execution_count": 998,
   "id": "f9a8e346-c497-4806-a516-cf971ce4b743",
   "metadata": {},
   "outputs": [],
   "source": [
    "#REMOVING columns which mostly have null values\n",
    "loan_data_nonull= loan_data_df_updated.dropna(axis=1, how='all')"
   ]
  },
  {
   "cell_type": "code",
   "execution_count": 999,
   "id": "f7e760ea-1438-4c55-beb3-7310a2af808f",
   "metadata": {},
   "outputs": [
    {
     "data": {
      "text/plain": [
       "(38577, 56)"
      ]
     },
     "execution_count": 999,
     "metadata": {},
     "output_type": "execute_result"
    }
   ],
   "source": [
    "loan_data_nonull.shape"
   ]
  },
  {
   "cell_type": "code",
   "execution_count": 1000,
   "id": "12dce75e-743e-4480-a73a-4b78bd1a76c1",
   "metadata": {},
   "outputs": [],
   "source": [
    "#removing more columns like IDs, Urls, description, title as they won't be useful in analysis"
   ]
  },
  {
   "cell_type": "code",
   "execution_count": 1001,
   "id": "223f3c1b-9385-4f3f-8a66-442ec6ed77ee",
   "metadata": {},
   "outputs": [],
   "source": [
    "#loan_data_nonull.drop([ 'url','desc','title'],axis=1,inplace=True)"
   ]
  },
  {
   "cell_type": "code",
   "execution_count": 1002,
   "id": "e991c5f8-96f9-4f6e-8871-6544d20039ef",
   "metadata": {},
   "outputs": [
    {
     "data": {
      "text/plain": [
       "Index(['id', 'member_id', 'loan_amnt', 'funded_amnt', 'funded_amnt_inv',\n",
       "       'term', 'int_rate', 'installment', 'grade', 'sub_grade', 'emp_title',\n",
       "       'emp_length', 'home_ownership', 'annual_inc', 'verification_status',\n",
       "       'issue_d', 'loan_status', 'pymnt_plan', 'url', 'desc', 'purpose',\n",
       "       'title', 'zip_code', 'addr_state', 'dti', 'delinq_2yrs',\n",
       "       'earliest_cr_line', 'inq_last_6mths', 'mths_since_last_delinq',\n",
       "       'mths_since_last_record', 'open_acc', 'pub_rec', 'revol_bal',\n",
       "       'revol_util', 'total_acc', 'initial_list_status', 'out_prncp',\n",
       "       'out_prncp_inv', 'total_pymnt', 'total_pymnt_inv', 'total_rec_prncp',\n",
       "       'total_rec_int', 'total_rec_late_fee', 'recoveries',\n",
       "       'collection_recovery_fee', 'last_pymnt_d', 'last_pymnt_amnt',\n",
       "       'last_credit_pull_d', 'collections_12_mths_ex_med', 'policy_code',\n",
       "       'application_type', 'acc_now_delinq', 'chargeoff_within_12_mths',\n",
       "       'delinq_amnt', 'pub_rec_bankruptcies', 'tax_liens'],\n",
       "      dtype='object')"
      ]
     },
     "execution_count": 1002,
     "metadata": {},
     "output_type": "execute_result"
    }
   ],
   "source": [
    "loan_data_nonull.columns"
   ]
  },
  {
   "cell_type": "code",
   "execution_count": 1003,
   "id": "3fccd6fa-0187-49ad-8c00-e0dd7037c97f",
   "metadata": {},
   "outputs": [
    {
     "data": {
      "text/plain": [
       "(38577, 56)"
      ]
     },
     "execution_count": 1003,
     "metadata": {},
     "output_type": "execute_result"
    }
   ],
   "source": [
    "loan_data_nonull.shape"
   ]
  },
  {
   "cell_type": "code",
   "execution_count": 1004,
   "id": "38326283-e9b5-40c9-ab0e-84e891e64c90",
   "metadata": {},
   "outputs": [],
   "source": [
    "#after scanning the data set we found some more variables which are details of approved loans and wont help in analysis\n",
    "\n",
    "loan_data_nonull=loan_data_nonull.drop(['last_pymnt_d', 'last_pymnt_amnt','delinq_2yrs','earliest_cr_line','last_pymnt_amnt','inq_last_6mths','open_acc',\n",
    "       'pub_rec', 'total_pymnt','total_pymnt_inv', 'total_rec_prncp', 'total_rec_int','total_rec_late_fee', 'recoveries', 'collection_recovery_fee','application_type', 'last_credit_pull_d'], axis=1)"
   ]
  },
  {
   "cell_type": "code",
   "execution_count": 1005,
   "id": "12867fd1-3c80-443d-88e1-dc7cbeec7e34",
   "metadata": {},
   "outputs": [
    {
     "data": {
      "text/plain": [
       "(38577, 40)"
      ]
     },
     "execution_count": 1005,
     "metadata": {},
     "output_type": "execute_result"
    }
   ],
   "source": [
    "loan_data_nonull.shape"
   ]
  },
  {
   "cell_type": "code",
   "execution_count": 1006,
   "id": "fdef577a-2b63-41b5-a6be-459d7ffbe135",
   "metadata": {},
   "outputs": [
    {
     "data": {
      "text/plain": [
       "tax_liens                         1\n",
       "out_prncp_inv                     1\n",
       "out_prncp                         1\n",
       "initial_list_status               1\n",
       "acc_now_delinq                    1\n",
       "collections_12_mths_ex_med        1\n",
       "chargeoff_within_12_mths          1\n",
       "pymnt_plan                        1\n",
       "policy_code                       1\n",
       "delinq_amnt                       1\n",
       "term                              2\n",
       "loan_status                       2\n",
       "pub_rec_bankruptcies              3\n",
       "verification_status               3\n",
       "home_ownership                    5\n",
       "grade                             7\n",
       "emp_length                       11\n",
       "purpose                          14\n",
       "sub_grade                        35\n",
       "addr_state                       50\n",
       "issue_d                          55\n",
       "total_acc                        82\n",
       "mths_since_last_delinq           95\n",
       "mths_since_last_record          111\n",
       "int_rate                        370\n",
       "zip_code                        822\n",
       "loan_amnt                       870\n",
       "funded_amnt                    1019\n",
       "revol_util                     1088\n",
       "dti                            2853\n",
       "annual_inc                     5215\n",
       "funded_amnt_inv                8050\n",
       "installment                   15022\n",
       "title                         19297\n",
       "revol_bal                     21275\n",
       "desc                          25802\n",
       "emp_title                     28027\n",
       "member_id                     38577\n",
       "url                           38577\n",
       "id                            38577\n",
       "dtype: int64"
      ]
     },
     "execution_count": 1006,
     "metadata": {},
     "output_type": "execute_result"
    }
   ],
   "source": [
    "loan_data_nonull.nunique().sort_values()"
   ]
  },
  {
   "cell_type": "code",
   "execution_count": 1007,
   "id": "a2355c59-9aff-4c99-8b5a-5c34fb99de39",
   "metadata": {},
   "outputs": [],
   "source": [
    "more_columns_todrop=['tax_liens','initial_list_status','out_prncp','collections_12_mths_ex_med','policy_code','out_prncp_inv','acc_now_delinq','chargeoff_within_12_mths','delinq_amnt','pymnt_plan']"
   ]
  },
  {
   "cell_type": "code",
   "execution_count": 1008,
   "id": "c0911218-9576-4aab-9e84-df0852ab5396",
   "metadata": {},
   "outputs": [],
   "source": [
    "loan_data_nonull= loan_data_nonull.drop(columns=more_columns_todrop,axis=1)"
   ]
  },
  {
   "cell_type": "code",
   "execution_count": 1009,
   "id": "fcadff51-7789-4cad-a6ce-e336c0cdca19",
   "metadata": {},
   "outputs": [
    {
     "data": {
      "text/plain": [
       "(38577, 30)"
      ]
     },
     "execution_count": 1009,
     "metadata": {},
     "output_type": "execute_result"
    }
   ],
   "source": [
    "loan_data_nonull.shape"
   ]
  },
  {
   "cell_type": "code",
   "execution_count": 1010,
   "id": "1b1639c6-0ab9-41da-91a5-278297a9468b",
   "metadata": {},
   "outputs": [
    {
     "data": {
      "text/plain": [
       "Index(['id', 'member_id', 'loan_amnt', 'funded_amnt', 'funded_amnt_inv',\n",
       "       'term', 'int_rate', 'installment', 'grade', 'sub_grade', 'emp_title',\n",
       "       'emp_length', 'home_ownership', 'annual_inc', 'verification_status',\n",
       "       'issue_d', 'loan_status', 'url', 'desc', 'purpose', 'title', 'zip_code',\n",
       "       'addr_state', 'dti', 'mths_since_last_delinq', 'mths_since_last_record',\n",
       "       'revol_bal', 'revol_util', 'total_acc', 'pub_rec_bankruptcies'],\n",
       "      dtype='object')"
      ]
     },
     "execution_count": 1010,
     "metadata": {},
     "output_type": "execute_result"
    }
   ],
   "source": [
    "loan_data_nonull.columns"
   ]
  },
  {
   "cell_type": "code",
   "execution_count": 1011,
   "id": "32bdaad7-7d6b-4862-93ed-64db5e029a1b",
   "metadata": {},
   "outputs": [],
   "source": [
    "# Dropping columns with 90% or more null values\n",
    "drop_limit = 0.9 * len(loan_data_nonull)\n",
    "\n",
    "loan_data_drop90 = loan_data_nonull.loc[:, loan_data_nonull.isnull().sum() < drop_limit]"
   ]
  },
  {
   "cell_type": "code",
   "execution_count": 1012,
   "id": "49c94ec4-6882-4887-ba25-8391ee3db6ad",
   "metadata": {},
   "outputs": [
    {
     "data": {
      "text/plain": [
       "(38577, 29)"
      ]
     },
     "execution_count": 1012,
     "metadata": {},
     "output_type": "execute_result"
    }
   ],
   "source": [
    "loan_data_drop90.shape"
   ]
  },
  {
   "cell_type": "code",
   "execution_count": 1013,
   "id": "5d99bfd7-79d0-4989-a278-b01e48c2510a",
   "metadata": {},
   "outputs": [
    {
     "data": {
      "text/plain": [
       "id                          int64\n",
       "member_id                   int64\n",
       "loan_amnt                   int64\n",
       "funded_amnt                 int64\n",
       "funded_amnt_inv           float64\n",
       "term                       object\n",
       "int_rate                   object\n",
       "installment               float64\n",
       "grade                      object\n",
       "sub_grade                  object\n",
       "emp_title                  object\n",
       "emp_length                 object\n",
       "home_ownership             object\n",
       "annual_inc                float64\n",
       "verification_status        object\n",
       "issue_d                    object\n",
       "loan_status                object\n",
       "url                        object\n",
       "desc                       object\n",
       "purpose                    object\n",
       "title                      object\n",
       "zip_code                   object\n",
       "addr_state                 object\n",
       "dti                       float64\n",
       "mths_since_last_delinq    float64\n",
       "revol_bal                   int64\n",
       "revol_util                 object\n",
       "total_acc                   int64\n",
       "pub_rec_bankruptcies      float64\n",
       "dtype: object"
      ]
     },
     "execution_count": 1013,
     "metadata": {},
     "output_type": "execute_result"
    }
   ],
   "source": [
    "loan_data_drop90.dtypes"
   ]
  },
  {
   "cell_type": "code",
   "execution_count": 1014,
   "id": "e135e878-d9af-4b00-8c28-16b2aa0ba852",
   "metadata": {},
   "outputs": [
    {
     "name": "stderr",
     "output_type": "stream",
     "text": [
      "/var/folders/ld/knz66s750qgb_2by_6ff63sm0000gp/T/ipykernel_4916/382835572.py:2: SettingWithCopyWarning: \n",
      "A value is trying to be set on a copy of a slice from a DataFrame.\n",
      "Try using .loc[row_indexer,col_indexer] = value instead\n",
      "\n",
      "See the caveats in the documentation: https://pandas.pydata.org/pandas-docs/stable/user_guide/indexing.html#returning-a-view-versus-a-copy\n",
      "  loan_data_drop90['int_rate']= loan_data_drop90['int_rate'].str.replace('%', '').astype(float)\n"
     ]
    }
   ],
   "source": [
    "#Need to remove special characters \n",
    "loan_data_drop90['int_rate']= loan_data_drop90['int_rate'].str.replace('%', '').astype(float)"
   ]
  },
  {
   "cell_type": "code",
   "execution_count": 1015,
   "id": "db5e70a7-49a1-4652-bfaf-25a94bb41f80",
   "metadata": {},
   "outputs": [
    {
     "name": "stdout",
     "output_type": "stream",
     "text": [
      "<class 'pandas.core.frame.DataFrame'>\n",
      "Index: 38577 entries, 0 to 39716\n",
      "Data columns (total 29 columns):\n",
      " #   Column                  Non-Null Count  Dtype  \n",
      "---  ------                  --------------  -----  \n",
      " 0   id                      38577 non-null  int64  \n",
      " 1   member_id               38577 non-null  int64  \n",
      " 2   loan_amnt               38577 non-null  int64  \n",
      " 3   funded_amnt             38577 non-null  int64  \n",
      " 4   funded_amnt_inv         38577 non-null  float64\n",
      " 5   term                    38577 non-null  object \n",
      " 6   int_rate                38577 non-null  float64\n",
      " 7   installment             38577 non-null  float64\n",
      " 8   grade                   38577 non-null  object \n",
      " 9   sub_grade               38577 non-null  object \n",
      " 10  emp_title               36191 non-null  object \n",
      " 11  emp_length              37544 non-null  object \n",
      " 12  home_ownership          38577 non-null  object \n",
      " 13  annual_inc              38577 non-null  float64\n",
      " 14  verification_status     38577 non-null  object \n",
      " 15  issue_d                 38577 non-null  object \n",
      " 16  loan_status             38577 non-null  object \n",
      " 17  url                     38577 non-null  object \n",
      " 18  desc                    26048 non-null  object \n",
      " 19  purpose                 38577 non-null  object \n",
      " 20  title                   38566 non-null  object \n",
      " 21  zip_code                38577 non-null  object \n",
      " 22  addr_state              38577 non-null  object \n",
      " 23  dti                     38577 non-null  float64\n",
      " 24  mths_since_last_delinq  13672 non-null  float64\n",
      " 25  revol_bal               38577 non-null  int64  \n",
      " 26  revol_util              38527 non-null  object \n",
      " 27  total_acc               38577 non-null  int64  \n",
      " 28  pub_rec_bankruptcies    37880 non-null  float64\n",
      "dtypes: float64(7), int64(6), object(16)\n",
      "memory usage: 8.8+ MB\n"
     ]
    }
   ],
   "source": [
    "loan_data_drop90.info()"
   ]
  },
  {
   "cell_type": "code",
   "execution_count": 1016,
   "id": "263f997c-26a0-4c6d-b1e0-b40723e4a759",
   "metadata": {},
   "outputs": [
    {
     "name": "stderr",
     "output_type": "stream",
     "text": [
      "/var/folders/ld/knz66s750qgb_2by_6ff63sm0000gp/T/ipykernel_4916/1439770240.py:2: SettingWithCopyWarning: \n",
      "A value is trying to be set on a copy of a slice from a DataFrame.\n",
      "Try using .loc[row_indexer,col_indexer] = value instead\n",
      "\n",
      "See the caveats in the documentation: https://pandas.pydata.org/pandas-docs/stable/user_guide/indexing.html#returning-a-view-versus-a-copy\n",
      "  loan_data_drop90['revol_util']= loan_data_drop90['revol_util'].str.replace('%', '').astype(float)\n"
     ]
    }
   ],
   "source": [
    "#Need to remove special characters \n",
    "loan_data_drop90['revol_util']= loan_data_drop90['revol_util'].str.replace('%', '').astype(float)"
   ]
  },
  {
   "cell_type": "code",
   "execution_count": 1017,
   "id": "e613f1d2-91c8-4c9d-9886-2a2157f15a8e",
   "metadata": {},
   "outputs": [
    {
     "name": "stdout",
     "output_type": "stream",
     "text": [
      "<class 'pandas.core.frame.DataFrame'>\n",
      "Index: 38577 entries, 0 to 39716\n",
      "Data columns (total 29 columns):\n",
      " #   Column                  Non-Null Count  Dtype  \n",
      "---  ------                  --------------  -----  \n",
      " 0   id                      38577 non-null  int64  \n",
      " 1   member_id               38577 non-null  int64  \n",
      " 2   loan_amnt               38577 non-null  int64  \n",
      " 3   funded_amnt             38577 non-null  int64  \n",
      " 4   funded_amnt_inv         38577 non-null  float64\n",
      " 5   term                    38577 non-null  object \n",
      " 6   int_rate                38577 non-null  float64\n",
      " 7   installment             38577 non-null  float64\n",
      " 8   grade                   38577 non-null  object \n",
      " 9   sub_grade               38577 non-null  object \n",
      " 10  emp_title               36191 non-null  object \n",
      " 11  emp_length              37544 non-null  object \n",
      " 12  home_ownership          38577 non-null  object \n",
      " 13  annual_inc              38577 non-null  float64\n",
      " 14  verification_status     38577 non-null  object \n",
      " 15  issue_d                 38577 non-null  object \n",
      " 16  loan_status             38577 non-null  object \n",
      " 17  url                     38577 non-null  object \n",
      " 18  desc                    26048 non-null  object \n",
      " 19  purpose                 38577 non-null  object \n",
      " 20  title                   38566 non-null  object \n",
      " 21  zip_code                38577 non-null  object \n",
      " 22  addr_state              38577 non-null  object \n",
      " 23  dti                     38577 non-null  float64\n",
      " 24  mths_since_last_delinq  13672 non-null  float64\n",
      " 25  revol_bal               38577 non-null  int64  \n",
      " 26  revol_util              38527 non-null  float64\n",
      " 27  total_acc               38577 non-null  int64  \n",
      " 28  pub_rec_bankruptcies    37880 non-null  float64\n",
      "dtypes: float64(8), int64(6), object(15)\n",
      "memory usage: 8.8+ MB\n"
     ]
    }
   ],
   "source": [
    "loan_data_drop90.info()"
   ]
  },
  {
   "cell_type": "code",
   "execution_count": 1018,
   "id": "5b94cb9b-de6d-4000-b19b-2bf4d72bb62a",
   "metadata": {},
   "outputs": [
    {
     "name": "stderr",
     "output_type": "stream",
     "text": [
      "/var/folders/ld/knz66s750qgb_2by_6ff63sm0000gp/T/ipykernel_4916/1935932074.py:2: SettingWithCopyWarning: \n",
      "A value is trying to be set on a copy of a slice from a DataFrame.\n",
      "Try using .loc[row_indexer,col_indexer] = value instead\n",
      "\n",
      "See the caveats in the documentation: https://pandas.pydata.org/pandas-docs/stable/user_guide/indexing.html#returning-a-view-versus-a-copy\n",
      "  loan_data_drop90['term']= loan_data_drop90['term'].str.replace('months', '').astype(float)\n"
     ]
    }
   ],
   "source": [
    "#Need to remove string values from numeric columns\n",
    "loan_data_drop90['term']= loan_data_drop90['term'].str.replace('months', '').astype(float)"
   ]
  },
  {
   "cell_type": "code",
   "execution_count": 1019,
   "id": "996dd42a-ef38-4aa0-9faa-a5681d38aa75",
   "metadata": {},
   "outputs": [
    {
     "name": "stdout",
     "output_type": "stream",
     "text": [
      "<class 'pandas.core.frame.DataFrame'>\n",
      "Index: 38577 entries, 0 to 39716\n",
      "Data columns (total 29 columns):\n",
      " #   Column                  Non-Null Count  Dtype  \n",
      "---  ------                  --------------  -----  \n",
      " 0   id                      38577 non-null  int64  \n",
      " 1   member_id               38577 non-null  int64  \n",
      " 2   loan_amnt               38577 non-null  int64  \n",
      " 3   funded_amnt             38577 non-null  int64  \n",
      " 4   funded_amnt_inv         38577 non-null  float64\n",
      " 5   term                    38577 non-null  float64\n",
      " 6   int_rate                38577 non-null  float64\n",
      " 7   installment             38577 non-null  float64\n",
      " 8   grade                   38577 non-null  object \n",
      " 9   sub_grade               38577 non-null  object \n",
      " 10  emp_title               36191 non-null  object \n",
      " 11  emp_length              37544 non-null  object \n",
      " 12  home_ownership          38577 non-null  object \n",
      " 13  annual_inc              38577 non-null  float64\n",
      " 14  verification_status     38577 non-null  object \n",
      " 15  issue_d                 38577 non-null  object \n",
      " 16  loan_status             38577 non-null  object \n",
      " 17  url                     38577 non-null  object \n",
      " 18  desc                    26048 non-null  object \n",
      " 19  purpose                 38577 non-null  object \n",
      " 20  title                   38566 non-null  object \n",
      " 21  zip_code                38577 non-null  object \n",
      " 22  addr_state              38577 non-null  object \n",
      " 23  dti                     38577 non-null  float64\n",
      " 24  mths_since_last_delinq  13672 non-null  float64\n",
      " 25  revol_bal               38577 non-null  int64  \n",
      " 26  revol_util              38527 non-null  float64\n",
      " 27  total_acc               38577 non-null  int64  \n",
      " 28  pub_rec_bankruptcies    37880 non-null  float64\n",
      "dtypes: float64(9), int64(6), object(14)\n",
      "memory usage: 8.8+ MB\n"
     ]
    }
   ],
   "source": [
    "loan_data_drop90.info()"
   ]
  },
  {
   "cell_type": "code",
   "execution_count": 1020,
   "id": "4a634001-f849-4ddd-b24c-a1d9888cfe92",
   "metadata": {},
   "outputs": [
    {
     "data": {
      "text/html": [
       "<div>\n",
       "<style scoped>\n",
       "    .dataframe tbody tr th:only-of-type {\n",
       "        vertical-align: middle;\n",
       "    }\n",
       "\n",
       "    .dataframe tbody tr th {\n",
       "        vertical-align: top;\n",
       "    }\n",
       "\n",
       "    .dataframe thead th {\n",
       "        text-align: right;\n",
       "    }\n",
       "</style>\n",
       "<table border=\"1\" class=\"dataframe\">\n",
       "  <thead>\n",
       "    <tr style=\"text-align: right;\">\n",
       "      <th></th>\n",
       "      <th>id</th>\n",
       "      <th>member_id</th>\n",
       "      <th>loan_amnt</th>\n",
       "      <th>funded_amnt</th>\n",
       "      <th>funded_amnt_inv</th>\n",
       "      <th>term</th>\n",
       "      <th>int_rate</th>\n",
       "      <th>installment</th>\n",
       "      <th>grade</th>\n",
       "      <th>sub_grade</th>\n",
       "      <th>...</th>\n",
       "      <th>purpose</th>\n",
       "      <th>title</th>\n",
       "      <th>zip_code</th>\n",
       "      <th>addr_state</th>\n",
       "      <th>dti</th>\n",
       "      <th>mths_since_last_delinq</th>\n",
       "      <th>revol_bal</th>\n",
       "      <th>revol_util</th>\n",
       "      <th>total_acc</th>\n",
       "      <th>pub_rec_bankruptcies</th>\n",
       "    </tr>\n",
       "  </thead>\n",
       "  <tbody>\n",
       "    <tr>\n",
       "      <th>0</th>\n",
       "      <td>1077501</td>\n",
       "      <td>1296599</td>\n",
       "      <td>5000</td>\n",
       "      <td>5000</td>\n",
       "      <td>4975.00</td>\n",
       "      <td>36.00</td>\n",
       "      <td>10.65</td>\n",
       "      <td>162.87</td>\n",
       "      <td>B</td>\n",
       "      <td>B2</td>\n",
       "      <td>...</td>\n",
       "      <td>credit_card</td>\n",
       "      <td>Computer</td>\n",
       "      <td>860xx</td>\n",
       "      <td>AZ</td>\n",
       "      <td>27.65</td>\n",
       "      <td>NaN</td>\n",
       "      <td>13648</td>\n",
       "      <td>83.70</td>\n",
       "      <td>9</td>\n",
       "      <td>0.00</td>\n",
       "    </tr>\n",
       "    <tr>\n",
       "      <th>1</th>\n",
       "      <td>1077430</td>\n",
       "      <td>1314167</td>\n",
       "      <td>2500</td>\n",
       "      <td>2500</td>\n",
       "      <td>2500.00</td>\n",
       "      <td>60.00</td>\n",
       "      <td>15.27</td>\n",
       "      <td>59.83</td>\n",
       "      <td>C</td>\n",
       "      <td>C4</td>\n",
       "      <td>...</td>\n",
       "      <td>car</td>\n",
       "      <td>bike</td>\n",
       "      <td>309xx</td>\n",
       "      <td>GA</td>\n",
       "      <td>1.00</td>\n",
       "      <td>NaN</td>\n",
       "      <td>1687</td>\n",
       "      <td>9.40</td>\n",
       "      <td>4</td>\n",
       "      <td>0.00</td>\n",
       "    </tr>\n",
       "    <tr>\n",
       "      <th>2</th>\n",
       "      <td>1077175</td>\n",
       "      <td>1313524</td>\n",
       "      <td>2400</td>\n",
       "      <td>2400</td>\n",
       "      <td>2400.00</td>\n",
       "      <td>36.00</td>\n",
       "      <td>15.96</td>\n",
       "      <td>84.33</td>\n",
       "      <td>C</td>\n",
       "      <td>C5</td>\n",
       "      <td>...</td>\n",
       "      <td>small_business</td>\n",
       "      <td>real estate business</td>\n",
       "      <td>606xx</td>\n",
       "      <td>IL</td>\n",
       "      <td>8.72</td>\n",
       "      <td>NaN</td>\n",
       "      <td>2956</td>\n",
       "      <td>98.50</td>\n",
       "      <td>10</td>\n",
       "      <td>0.00</td>\n",
       "    </tr>\n",
       "    <tr>\n",
       "      <th>3</th>\n",
       "      <td>1076863</td>\n",
       "      <td>1277178</td>\n",
       "      <td>10000</td>\n",
       "      <td>10000</td>\n",
       "      <td>10000.00</td>\n",
       "      <td>36.00</td>\n",
       "      <td>13.49</td>\n",
       "      <td>339.31</td>\n",
       "      <td>C</td>\n",
       "      <td>C1</td>\n",
       "      <td>...</td>\n",
       "      <td>other</td>\n",
       "      <td>personel</td>\n",
       "      <td>917xx</td>\n",
       "      <td>CA</td>\n",
       "      <td>20.00</td>\n",
       "      <td>35.00</td>\n",
       "      <td>5598</td>\n",
       "      <td>21.00</td>\n",
       "      <td>37</td>\n",
       "      <td>0.00</td>\n",
       "    </tr>\n",
       "    <tr>\n",
       "      <th>5</th>\n",
       "      <td>1075269</td>\n",
       "      <td>1311441</td>\n",
       "      <td>5000</td>\n",
       "      <td>5000</td>\n",
       "      <td>5000.00</td>\n",
       "      <td>36.00</td>\n",
       "      <td>7.90</td>\n",
       "      <td>156.46</td>\n",
       "      <td>A</td>\n",
       "      <td>A4</td>\n",
       "      <td>...</td>\n",
       "      <td>wedding</td>\n",
       "      <td>My wedding loan I promise to pay back</td>\n",
       "      <td>852xx</td>\n",
       "      <td>AZ</td>\n",
       "      <td>11.20</td>\n",
       "      <td>NaN</td>\n",
       "      <td>7963</td>\n",
       "      <td>28.30</td>\n",
       "      <td>12</td>\n",
       "      <td>0.00</td>\n",
       "    </tr>\n",
       "  </tbody>\n",
       "</table>\n",
       "<p>5 rows × 29 columns</p>\n",
       "</div>"
      ],
      "text/plain": [
       "        id  member_id  loan_amnt  funded_amnt  funded_amnt_inv  term  \\\n",
       "0  1077501    1296599       5000         5000          4975.00 36.00   \n",
       "1  1077430    1314167       2500         2500          2500.00 60.00   \n",
       "2  1077175    1313524       2400         2400          2400.00 36.00   \n",
       "3  1076863    1277178      10000        10000         10000.00 36.00   \n",
       "5  1075269    1311441       5000         5000          5000.00 36.00   \n",
       "\n",
       "   int_rate  installment grade sub_grade  ...         purpose  \\\n",
       "0     10.65       162.87     B        B2  ...     credit_card   \n",
       "1     15.27        59.83     C        C4  ...             car   \n",
       "2     15.96        84.33     C        C5  ...  small_business   \n",
       "3     13.49       339.31     C        C1  ...           other   \n",
       "5      7.90       156.46     A        A4  ...         wedding   \n",
       "\n",
       "                                   title zip_code  addr_state   dti  \\\n",
       "0                               Computer    860xx          AZ 27.65   \n",
       "1                                   bike    309xx          GA  1.00   \n",
       "2                   real estate business    606xx          IL  8.72   \n",
       "3                               personel    917xx          CA 20.00   \n",
       "5  My wedding loan I promise to pay back    852xx          AZ 11.20   \n",
       "\n",
       "  mths_since_last_delinq revol_bal revol_util total_acc pub_rec_bankruptcies  \n",
       "0                    NaN     13648      83.70         9                 0.00  \n",
       "1                    NaN      1687       9.40         4                 0.00  \n",
       "2                    NaN      2956      98.50        10                 0.00  \n",
       "3                  35.00      5598      21.00        37                 0.00  \n",
       "5                    NaN      7963      28.30        12                 0.00  \n",
       "\n",
       "[5 rows x 29 columns]"
      ]
     },
     "execution_count": 1020,
     "metadata": {},
     "output_type": "execute_result"
    }
   ],
   "source": [
    "loan_data_drop90.head()"
   ]
  },
  {
   "cell_type": "code",
   "execution_count": 1021,
   "id": "0740a784-87b1-45f1-a85c-f1a76b5b46fc",
   "metadata": {},
   "outputs": [],
   "source": [
    "# 'mths_since_last_delinq column' is mostly NA values so no point imputing values. Hence dropping column\n",
    "loan_data_drop90= loan_data_drop90.drop('mths_since_last_delinq',axis=1)"
   ]
  },
  {
   "cell_type": "code",
   "execution_count": 1022,
   "id": "5ed871e5-80d7-49b1-9cb9-93962a5d6b14",
   "metadata": {},
   "outputs": [
    {
     "name": "stdout",
     "output_type": "stream",
     "text": [
      "<class 'pandas.core.frame.DataFrame'>\n",
      "Index: 38577 entries, 0 to 39716\n",
      "Data columns (total 28 columns):\n",
      " #   Column                Non-Null Count  Dtype  \n",
      "---  ------                --------------  -----  \n",
      " 0   id                    38577 non-null  int64  \n",
      " 1   member_id             38577 non-null  int64  \n",
      " 2   loan_amnt             38577 non-null  int64  \n",
      " 3   funded_amnt           38577 non-null  int64  \n",
      " 4   funded_amnt_inv       38577 non-null  float64\n",
      " 5   term                  38577 non-null  float64\n",
      " 6   int_rate              38577 non-null  float64\n",
      " 7   installment           38577 non-null  float64\n",
      " 8   grade                 38577 non-null  object \n",
      " 9   sub_grade             38577 non-null  object \n",
      " 10  emp_title             36191 non-null  object \n",
      " 11  emp_length            37544 non-null  object \n",
      " 12  home_ownership        38577 non-null  object \n",
      " 13  annual_inc            38577 non-null  float64\n",
      " 14  verification_status   38577 non-null  object \n",
      " 15  issue_d               38577 non-null  object \n",
      " 16  loan_status           38577 non-null  object \n",
      " 17  url                   38577 non-null  object \n",
      " 18  desc                  26048 non-null  object \n",
      " 19  purpose               38577 non-null  object \n",
      " 20  title                 38566 non-null  object \n",
      " 21  zip_code              38577 non-null  object \n",
      " 22  addr_state            38577 non-null  object \n",
      " 23  dti                   38577 non-null  float64\n",
      " 24  revol_bal             38577 non-null  int64  \n",
      " 25  revol_util            38527 non-null  float64\n",
      " 26  total_acc             38577 non-null  int64  \n",
      " 27  pub_rec_bankruptcies  37880 non-null  float64\n",
      "dtypes: float64(8), int64(6), object(14)\n",
      "memory usage: 8.5+ MB\n"
     ]
    }
   ],
   "source": [
    "loan_data_drop90.info()"
   ]
  },
  {
   "cell_type": "code",
   "execution_count": 1023,
   "id": "396f00ce-8771-401b-a431-bc3b0e4c08ce",
   "metadata": {},
   "outputs": [
    {
     "data": {
      "text/plain": [
       "49.1"
      ]
     },
     "execution_count": 1023,
     "metadata": {},
     "output_type": "execute_result"
    }
   ],
   "source": [
    "#imputing 'revol_util' column with median though we may or may not use it\n",
    "loan_data_drop90['revol_util'].median()"
   ]
  },
  {
   "cell_type": "code",
   "execution_count": 1024,
   "id": "78de54c0-4660-43bf-9fe5-71f0e72a8d16",
   "metadata": {},
   "outputs": [],
   "source": [
    "loan_data_drop90['revol_util']=loan_data_drop90['revol_util'].fillna(loan_data_drop90['revol_util'].median())"
   ]
  },
  {
   "cell_type": "code",
   "execution_count": 1025,
   "id": "889ce116-8ef5-413a-8048-72fdbd6c72af",
   "metadata": {},
   "outputs": [
    {
     "name": "stdout",
     "output_type": "stream",
     "text": [
      "<class 'pandas.core.frame.DataFrame'>\n",
      "Index: 38577 entries, 0 to 39716\n",
      "Data columns (total 28 columns):\n",
      " #   Column                Non-Null Count  Dtype  \n",
      "---  ------                --------------  -----  \n",
      " 0   id                    38577 non-null  int64  \n",
      " 1   member_id             38577 non-null  int64  \n",
      " 2   loan_amnt             38577 non-null  int64  \n",
      " 3   funded_amnt           38577 non-null  int64  \n",
      " 4   funded_amnt_inv       38577 non-null  float64\n",
      " 5   term                  38577 non-null  float64\n",
      " 6   int_rate              38577 non-null  float64\n",
      " 7   installment           38577 non-null  float64\n",
      " 8   grade                 38577 non-null  object \n",
      " 9   sub_grade             38577 non-null  object \n",
      " 10  emp_title             36191 non-null  object \n",
      " 11  emp_length            37544 non-null  object \n",
      " 12  home_ownership        38577 non-null  object \n",
      " 13  annual_inc            38577 non-null  float64\n",
      " 14  verification_status   38577 non-null  object \n",
      " 15  issue_d               38577 non-null  object \n",
      " 16  loan_status           38577 non-null  object \n",
      " 17  url                   38577 non-null  object \n",
      " 18  desc                  26048 non-null  object \n",
      " 19  purpose               38577 non-null  object \n",
      " 20  title                 38566 non-null  object \n",
      " 21  zip_code              38577 non-null  object \n",
      " 22  addr_state            38577 non-null  object \n",
      " 23  dti                   38577 non-null  float64\n",
      " 24  revol_bal             38577 non-null  int64  \n",
      " 25  revol_util            38577 non-null  float64\n",
      " 26  total_acc             38577 non-null  int64  \n",
      " 27  pub_rec_bankruptcies  37880 non-null  float64\n",
      "dtypes: float64(8), int64(6), object(14)\n",
      "memory usage: 8.5+ MB\n"
     ]
    }
   ],
   "source": [
    "loan_data_drop90.info()\n",
    "#two columns still have null values and we can drop them if they are less than 5% as the usual safe limit"
   ]
  },
  {
   "cell_type": "markdown",
   "id": "762eb889-0e47-46bc-99bc-49a1f391735d",
   "metadata": {},
   "source": [
    "outliers- boxplot\n",
    "date column\n"
   ]
  },
  {
   "cell_type": "code",
   "execution_count": 1027,
   "id": "58403d9e-26bc-45b8-b1fd-fb24cbfde104",
   "metadata": {},
   "outputs": [],
   "source": [
    "#checking if null records are less than 5%"
   ]
  },
  {
   "cell_type": "code",
   "execution_count": 1028,
   "id": "f8e854ba-05b7-4df1-814a-d82233ed5797",
   "metadata": {},
   "outputs": [
    {
     "data": {
      "text/plain": [
       "1.806776058273063"
      ]
     },
     "execution_count": 1028,
     "metadata": {},
     "output_type": "execute_result"
    }
   ],
   "source": [
    "(1-loan_data_drop90['pub_rec_bankruptcies'].count()/len(loan_data_drop90.index))*100\n"
   ]
  },
  {
   "cell_type": "code",
   "execution_count": 1029,
   "id": "20dfdf38-94f6-4fec-bc02-10f211027be2",
   "metadata": {},
   "outputs": [
    {
     "data": {
      "text/plain": [
       "2.6777613603960915"
      ]
     },
     "execution_count": 1029,
     "metadata": {},
     "output_type": "execute_result"
    }
   ],
   "source": [
    "(1-loan_data_drop90['emp_length'].count()/len(loan_data_drop90.index))*100"
   ]
  },
  {
   "cell_type": "code",
   "execution_count": 1030,
   "id": "e10c7a1e-ffd7-4266-bcf7-5a4dd906b64f",
   "metadata": {},
   "outputs": [
    {
     "data": {
      "text/plain": [
       "11.981232340513778"
      ]
     },
     "execution_count": 1030,
     "metadata": {},
     "output_type": "execute_result"
    }
   ],
   "source": [
    "# checking if dropping the null records will result in less than 5% overall drop\n",
    "((len(loan_data_drop90)-len(loan_data_cleaned))/38577)*100\n"
   ]
  },
  {
   "cell_type": "code",
   "execution_count": 1031,
   "id": "6fe2bbbb-5450-47cf-98d0-98bf50cb56cb",
   "metadata": {},
   "outputs": [],
   "source": [
    "#drop rows with null values - less than 5%\n",
    "loan_data_cleaned = loan_data_drop90.dropna(subset=['pub_rec_bankruptcies', 'emp_length'])"
   ]
  },
  {
   "cell_type": "code",
   "execution_count": 1032,
   "id": "5679d7a0-7e07-47ed-8fed-ff5300b0266f",
   "metadata": {},
   "outputs": [
    {
     "data": {
      "text/plain": [
       "0       2011-12-01\n",
       "1       2011-12-01\n",
       "2       2011-12-01\n",
       "3       2011-12-01\n",
       "5       2011-12-01\n",
       "           ...    \n",
       "39712   2007-07-01\n",
       "39713   2007-07-01\n",
       "39714   2007-07-01\n",
       "39715   2007-07-01\n",
       "39716   2007-06-01\n",
       "Name: issue_d, Length: 38577, dtype: datetime64[ns]"
      ]
     },
     "execution_count": 1032,
     "metadata": {},
     "output_type": "execute_result"
    }
   ],
   "source": [
    "#changing issue_d column to proper datetime format\n",
    "loan_data_drop90['issue_d'] = pd.to_datetime(loan_data_drop90['issue_d'], format='%b-%y')\n",
    "loan_data_drop90['issue_d']"
   ]
  },
  {
   "cell_type": "code",
   "execution_count": 1033,
   "id": "d3dbf541-4510-4234-ae6f-40c85aafd717",
   "metadata": {
    "scrolled": true
   },
   "outputs": [
    {
     "name": "stdout",
     "output_type": "stream",
     "text": [
      "<class 'pandas.core.frame.DataFrame'>\n",
      "Index: 36847 entries, 0 to 39680\n",
      "Data columns (total 28 columns):\n",
      " #   Column                Non-Null Count  Dtype  \n",
      "---  ------                --------------  -----  \n",
      " 0   id                    36847 non-null  int64  \n",
      " 1   member_id             36847 non-null  int64  \n",
      " 2   loan_amnt             36847 non-null  int64  \n",
      " 3   funded_amnt           36847 non-null  int64  \n",
      " 4   funded_amnt_inv       36847 non-null  float64\n",
      " 5   term                  36847 non-null  float64\n",
      " 6   int_rate              36847 non-null  float64\n",
      " 7   installment           36847 non-null  float64\n",
      " 8   grade                 36847 non-null  object \n",
      " 9   sub_grade             36847 non-null  object \n",
      " 10  emp_title             35482 non-null  object \n",
      " 11  emp_length            36847 non-null  object \n",
      " 12  home_ownership        36847 non-null  object \n",
      " 13  annual_inc            36847 non-null  float64\n",
      " 14  verification_status   36847 non-null  object \n",
      " 15  issue_d               36847 non-null  object \n",
      " 16  loan_status           36847 non-null  object \n",
      " 17  url                   36847 non-null  object \n",
      " 18  desc                  24753 non-null  object \n",
      " 19  purpose               36847 non-null  object \n",
      " 20  title                 36837 non-null  object \n",
      " 21  zip_code              36847 non-null  object \n",
      " 22  addr_state            36847 non-null  object \n",
      " 23  dti                   36847 non-null  float64\n",
      " 24  revol_bal             36847 non-null  int64  \n",
      " 25  revol_util            36847 non-null  float64\n",
      " 26  total_acc             36847 non-null  int64  \n",
      " 27  pub_rec_bankruptcies  36847 non-null  float64\n",
      "dtypes: float64(8), int64(6), object(14)\n",
      "memory usage: 8.2+ MB\n"
     ]
    }
   ],
   "source": [
    "loan_data_cleaned.info()"
   ]
  },
  {
   "cell_type": "code",
   "execution_count": 1034,
   "id": "09258bca-d20f-424b-8719-00d5434f4bda",
   "metadata": {},
   "outputs": [
    {
     "name": "stdout",
     "output_type": "stream",
     "text": [
      "<class 'pandas.core.frame.DataFrame'>\n",
      "Index: 36847 entries, 0 to 39680\n",
      "Data columns (total 28 columns):\n",
      " #   Column                Non-Null Count  Dtype  \n",
      "---  ------                --------------  -----  \n",
      " 0   id                    36847 non-null  int64  \n",
      " 1   member_id             36847 non-null  int64  \n",
      " 2   loan_amnt             36847 non-null  int64  \n",
      " 3   funded_amnt           36847 non-null  int64  \n",
      " 4   funded_amnt_inv       36847 non-null  float64\n",
      " 5   term                  36847 non-null  float64\n",
      " 6   int_rate              36847 non-null  float64\n",
      " 7   installment           36847 non-null  float64\n",
      " 8   grade                 36847 non-null  object \n",
      " 9   sub_grade             36847 non-null  object \n",
      " 10  emp_title             35482 non-null  object \n",
      " 11  emp_length            36847 non-null  object \n",
      " 12  home_ownership        36847 non-null  object \n",
      " 13  annual_inc            36847 non-null  float64\n",
      " 14  verification_status   36847 non-null  object \n",
      " 15  issue_d               36847 non-null  object \n",
      " 16  loan_status           36847 non-null  object \n",
      " 17  url                   36847 non-null  object \n",
      " 18  desc                  24753 non-null  object \n",
      " 19  purpose               36847 non-null  object \n",
      " 20  title                 36837 non-null  object \n",
      " 21  zip_code              36847 non-null  object \n",
      " 22  addr_state            36847 non-null  object \n",
      " 23  dti                   36847 non-null  float64\n",
      " 24  revol_bal             36847 non-null  int64  \n",
      " 25  revol_util            36847 non-null  float64\n",
      " 26  total_acc             36847 non-null  int64  \n",
      " 27  pub_rec_bankruptcies  36847 non-null  float64\n",
      "dtypes: float64(8), int64(6), object(14)\n",
      "memory usage: 8.2+ MB\n"
     ]
    }
   ],
   "source": [
    "loan_data_cleaned.info()"
   ]
  },
  {
   "cell_type": "code",
   "execution_count": 1035,
   "id": "24272331-21f6-41d5-9533-324a94f0d2f1",
   "metadata": {},
   "outputs": [],
   "source": [
    "#dropping employee title as it will not have any impact\n",
    "loan_data_cleaned= loan_data_cleaned.drop('emp_title',axis=1)"
   ]
  },
  {
   "cell_type": "code",
   "execution_count": 1036,
   "id": "183ea429-95bb-468f-a4b8-e76fa114f2c9",
   "metadata": {},
   "outputs": [
    {
     "name": "stdout",
     "output_type": "stream",
     "text": [
      "<class 'pandas.core.frame.DataFrame'>\n",
      "Index: 36847 entries, 0 to 39680\n",
      "Data columns (total 27 columns):\n",
      " #   Column                Non-Null Count  Dtype  \n",
      "---  ------                --------------  -----  \n",
      " 0   id                    36847 non-null  int64  \n",
      " 1   member_id             36847 non-null  int64  \n",
      " 2   loan_amnt             36847 non-null  int64  \n",
      " 3   funded_amnt           36847 non-null  int64  \n",
      " 4   funded_amnt_inv       36847 non-null  float64\n",
      " 5   term                  36847 non-null  float64\n",
      " 6   int_rate              36847 non-null  float64\n",
      " 7   installment           36847 non-null  float64\n",
      " 8   grade                 36847 non-null  object \n",
      " 9   sub_grade             36847 non-null  object \n",
      " 10  emp_length            36847 non-null  object \n",
      " 11  home_ownership        36847 non-null  object \n",
      " 12  annual_inc            36847 non-null  float64\n",
      " 13  verification_status   36847 non-null  object \n",
      " 14  issue_d               36847 non-null  object \n",
      " 15  loan_status           36847 non-null  object \n",
      " 16  url                   36847 non-null  object \n",
      " 17  desc                  24753 non-null  object \n",
      " 18  purpose               36847 non-null  object \n",
      " 19  title                 36837 non-null  object \n",
      " 20  zip_code              36847 non-null  object \n",
      " 21  addr_state            36847 non-null  object \n",
      " 22  dti                   36847 non-null  float64\n",
      " 23  revol_bal             36847 non-null  int64  \n",
      " 24  revol_util            36847 non-null  float64\n",
      " 25  total_acc             36847 non-null  int64  \n",
      " 26  pub_rec_bankruptcies  36847 non-null  float64\n",
      "dtypes: float64(8), int64(6), object(13)\n",
      "memory usage: 7.9+ MB\n"
     ]
    }
   ],
   "source": [
    "loan_data_cleaned.info()"
   ]
  },
  {
   "cell_type": "code",
   "execution_count": 1037,
   "id": "697ec99c-2d78-4159-8c14-1dcd0bc1b64a",
   "metadata": {},
   "outputs": [],
   "source": [
    "#also need to convert emp_length column to int\n",
    "loan_data_cleaned['emp_length']= loan_data_cleaned['emp_length'].str.replace('>', '')\n",
    "loan_data_cleaned['emp_length']= loan_data_cleaned['emp_length'].str.replace('+', '')\n",
    "loan_data_cleaned['emp_length']= loan_data_cleaned['emp_length'].str.replace('<', '')\n",
    "loan_data_cleaned['emp_length']= loan_data_cleaned['emp_length'].str.replace('years', '')\n",
    "loan_data_cleaned['emp_length']= loan_data_cleaned['emp_length'].str.replace('year', '')\n",
    "loan_data_cleaned['emp_length']= loan_data_cleaned['emp_length'].str.replace(' ', '')\n"
   ]
  },
  {
   "cell_type": "code",
   "execution_count": 1038,
   "id": "be2e4c7d-81a6-44c7-b123-b86836a78970",
   "metadata": {},
   "outputs": [
    {
     "data": {
      "text/plain": [
       "dtype('int64')"
      ]
     },
     "execution_count": 1038,
     "metadata": {},
     "output_type": "execute_result"
    }
   ],
   "source": [
    "loan_data_cleaned['emp_length']=loan_data_cleaned['emp_length'].astype(int)\n",
    "loan_data_cleaned['emp_length'].dtype"
   ]
  },
  {
   "cell_type": "code",
   "execution_count": 1039,
   "id": "53ef070e-f82f-4378-8e4f-cae0ab615291",
   "metadata": {},
   "outputs": [
    {
     "data": {
      "text/plain": [
       "0       24000.00\n",
       "1       30000.00\n",
       "2       12252.00\n",
       "3       49200.00\n",
       "5       36000.00\n",
       "          ...   \n",
       "39562   35000.00\n",
       "39573   63500.00\n",
       "39623   39000.00\n",
       "39666   40000.00\n",
       "39680   36153.00\n",
       "Name: annual_inc, Length: 36847, dtype: float64"
      ]
     },
     "execution_count": 1039,
     "metadata": {},
     "output_type": "execute_result"
    }
   ],
   "source": [
    "#converting annual income column to float\n",
    "loan_data_cleaned.annual_inc.astype(float)"
   ]
  },
  {
   "cell_type": "markdown",
   "id": "e2a02ec0-2553-483d-a9c2-bd98878df4d7",
   "metadata": {},
   "source": [
    "# starting to plot"
   ]
  },
  {
   "cell_type": "code",
   "execution_count": 1041,
   "id": "4902777a-051b-480b-a78a-1c8ad7a8722d",
   "metadata": {},
   "outputs": [
    {
     "data": {
      "text/plain": [
       "{'whiskers': [<matplotlib.lines.Line2D at 0x5ce87f920>,\n",
       "  <matplotlib.lines.Line2D at 0x5ce87e750>],\n",
       " 'caps': [<matplotlib.lines.Line2D at 0x5ce87de80>,\n",
       "  <matplotlib.lines.Line2D at 0x5ce87ce60>],\n",
       " 'boxes': [<matplotlib.lines.Line2D at 0x5ce87d730>],\n",
       " 'medians': [<matplotlib.lines.Line2D at 0x14b6a8dd0>],\n",
       " 'fliers': [<matplotlib.lines.Line2D at 0x5cb2d2090>],\n",
       " 'means': []}"
      ]
     },
     "execution_count": 1041,
     "metadata": {},
     "output_type": "execute_result"
    },
    {
     "data": {
      "image/png": "[encoded data removed]",
      "text/plain": [
       "<Figure size 640x480 with 1 Axes>"
      ]
     },
     "metadata": {},
     "output_type": "display_data"
    }
   ],
   "source": [
    "#Distribution of loan amount\n",
    "\n",
    "plt.boxplot(loan_data_cleaned.loan_amnt)\n"
   ]
  },
  {
   "cell_type": "code",
   "execution_count": 1042,
   "id": "9af78669-9277-4b7f-a76e-360b450d9038",
   "metadata": {},
   "outputs": [
    {
     "data": {
      "text/plain": [
       "count   36847.00\n",
       "mean    11141.33\n",
       "std      7369.99\n",
       "min       500.00\n",
       "25%      5500.00\n",
       "50%     10000.00\n",
       "75%     15000.00\n",
       "max     35000.00\n",
       "Name: loan_amnt, dtype: float64"
      ]
     },
     "execution_count": 1042,
     "metadata": {},
     "output_type": "execute_result"
    }
   ],
   "source": [
    "loan_data_cleaned.loan_amnt.describe()"
   ]
  },
  {
   "cell_type": "code",
   "execution_count": 1043,
   "id": "3384c015-0ea8-44ed-af39-ed9cbe8b3fee",
   "metadata": {},
   "outputs": [
    {
     "data": {
      "text/plain": [
       "count   35769.00\n",
       "mean    10481.66\n",
       "std      6396.52\n",
       "min       500.00\n",
       "25%      5200.00\n",
       "50%      9500.00\n",
       "75%     15000.00\n",
       "max     29175.00\n",
       "Name: loan_amnt, dtype: float64"
      ]
     },
     "execution_count": 1043,
     "metadata": {},
     "output_type": "execute_result"
    }
   ],
   "source": [
    "#based on boxplot above, removing 'loan_amnt' outliers\n",
    "\n",
    "Q1 = loan_data_cleaned['loan_amnt'].quantile(0.25)  # 25th percentile\n",
    "Q3 = loan_data_cleaned['loan_amnt'].quantile(0.75)  # 75th percentile\n",
    "IQR = Q3 - Q1\n",
    "\n",
    "# Calculate the lower and upper bounds\n",
    "lower_fence = Q1 - 1.5 * IQR\n",
    "upper_fence = Q3 + 1.5 * IQR\n",
    "\n",
    "# Filter the DataFrame to remove outliers\n",
    "loan_data_cleaned= loan_data_cleaned[(loan_data_cleaned['loan_amnt'] >= lower_fence) & (loan_data_cleaned['loan_amnt'] <= upper_fence)]\n",
    "loan_data_cleaned.loan_amnt.describe()"
   ]
  },
  {
   "cell_type": "code",
   "execution_count": 1044,
   "id": "4e5b23b3-dd5d-4858-bae1-55fe5c4473cf",
   "metadata": {},
   "outputs": [
    {
     "data": {
      "text/plain": [
       "{'whiskers': [<matplotlib.lines.Line2D at 0x5ceb18350>,\n",
       "  <matplotlib.lines.Line2D at 0x5ceb180b0>],\n",
       " 'caps': [<matplotlib.lines.Line2D at 0x5ceb1a5a0>,\n",
       "  <matplotlib.lines.Line2D at 0x5ceb1a330>],\n",
       " 'boxes': [<matplotlib.lines.Line2D at 0x5ceb18530>],\n",
       " 'medians': [<matplotlib.lines.Line2D at 0x5ceb1a150>],\n",
       " 'fliers': [<matplotlib.lines.Line2D at 0x5ceb19e80>],\n",
       " 'means': []}"
      ]
     },
     "execution_count": 1044,
     "metadata": {},
     "output_type": "execute_result"
    },
    {
     "data": {
      "image/png": "[encoded data removed]",
      "text/plain": [
       "<Figure size 640x480 with 1 Axes>"
      ]
     },
     "metadata": {},
     "output_type": "display_data"
    }
   ],
   "source": [
    "#Distribution of loan amount after removing outliers\n",
    "plt.boxplot(loan_data_cleaned['loan_amnt'])"
   ]
  },
  {
   "cell_type": "code",
   "execution_count": 1045,
   "id": "2e28a6d9-4446-4762-a217-755855c6ad8f",
   "metadata": {},
   "outputs": [
    {
     "data": {
      "text/plain": [
       "Text(0.5, 1.0, 'Distribution of Charged off loans')"
      ]
     },
     "execution_count": 1045,
     "metadata": {},
     "output_type": "execute_result"
    },
    {
     "data": {
      "image/png": "[encoded data removed]",
      "text/plain": [
       "<Figure size 640x480 with 1 Axes>"
      ]
     },
     "metadata": {},
     "output_type": "display_data"
    }
   ],
   "source": [
    "#Distribution of Charged off loans\n",
    "#creating a dataframe with Charged off records only\n",
    "\n",
    "loan_data_chargedoff=loan_data_cleaned[loan_data_cleaned['loan_status']==\"Charged Off\"]\n",
    "\n",
    "plt.boxplot(loan_data_chargedoff['loan_amnt'])\n",
    "loan_data_chargedoff['loan_amnt'].describe()\n",
    "plt.title('Distribution of Charged off loans')"
   ]
  },
  {
   "cell_type": "code",
   "execution_count": 1046,
   "id": "70d4a6aa-2b0a-404d-a7ef-499dec3b2c58",
   "metadata": {},
   "outputs": [
    {
     "data": {
      "text/plain": [
       "Text(0.5, 1.0, 'Distribution of Fully Paid loans')"
      ]
     },
     "execution_count": 1046,
     "metadata": {},
     "output_type": "execute_result"
    },
    {
     "data": {
      "image/png": "[encoded data removed]",
      "text/plain": [
       "<Figure size 640x480 with 1 Axes>"
      ]
     },
     "metadata": {},
     "output_type": "display_data"
    }
   ],
   "source": [
    "#creating a dataframe with Fully paid records only\n",
    "#Plotting Distribution of Fully Paid loans\n",
    "\n",
    "loan_data_paid=loan_data_cleaned[loan_data_cleaned['loan_status']==\"Fully Paid\"]\n",
    "\n",
    "plt.boxplot(loan_data_paid['loan_amnt'])\n",
    "loan_data_paid['loan_amnt'].describe()\n",
    "plt.title('Distribution of Fully Paid loans')"
   ]
  },
  {
   "cell_type": "code",
   "execution_count": 1047,
   "id": "98845afe-9eb7-42f1-9529-805b05d261a4",
   "metadata": {},
   "outputs": [
    {
     "data": {
      "text/plain": [
       "count   35769.00\n",
       "mean       11.87\n",
       "std         3.63\n",
       "min         5.42\n",
       "25%         8.94\n",
       "50%        11.71\n",
       "75%        14.27\n",
       "max        24.40\n",
       "Name: int_rate, dtype: float64"
      ]
     },
     "execution_count": 1047,
     "metadata": {},
     "output_type": "execute_result"
    },
    {
     "data": {
      "image/png": "[encoded data removed]",
      "text/plain": [
       "<Figure size 640x480 with 1 Axes>"
      ]
     },
     "metadata": {},
     "output_type": "display_data"
    }
   ],
   "source": [
    "#Distribution of interest rate\n",
    "\n",
    "plt.boxplot(loan_data_cleaned.int_rate)\n",
    "loan_data_cleaned.int_rate.describe()"
   ]
  },
  {
   "cell_type": "code",
   "execution_count": 1048,
   "id": "ee09cacf-5e2d-4db5-879e-6c02ce934b4f",
   "metadata": {},
   "outputs": [
    {
     "data": {
      "text/plain": [
       "count   35703.00\n",
       "mean       11.85\n",
       "std         3.60\n",
       "min         5.42\n",
       "25%         8.94\n",
       "50%        11.71\n",
       "75%        14.27\n",
       "max        22.11\n",
       "Name: int_rate, dtype: float64"
      ]
     },
     "execution_count": 1048,
     "metadata": {},
     "output_type": "execute_result"
    }
   ],
   "source": [
    "#removing 'int_rate' outliers\n",
    "\n",
    "Q1 = loan_data_cleaned['int_rate'].quantile(0.25)  # 25th percentile\n",
    "Q3 = loan_data_cleaned['int_rate'].quantile(0.75)  # 75th percentile\n",
    "IQR = Q3 - Q1\n",
    "\n",
    "# Calculate the lower and upper bounds\n",
    "lower_fence = Q1 - 1.5 * IQR\n",
    "upper_fence = Q3 + 1.5 * IQR\n",
    "\n",
    "# Filter the DataFrame to remove outliers\n",
    "loan_data_cleaned= loan_data_cleaned[(loan_data_cleaned['int_rate'] >= lower_fence) & (loan_data_cleaned['int_rate'] <= upper_fence)]\n",
    "loan_data_cleaned.int_rate.describe()\n"
   ]
  },
  {
   "cell_type": "code",
   "execution_count": 1049,
   "id": "c5a5bd40-3831-4da2-9d7b-b8b090aa453b",
   "metadata": {},
   "outputs": [
    {
     "data": {
      "text/plain": [
       "{'whiskers': [<matplotlib.lines.Line2D at 0x5ce9941a0>,\n",
       "  <matplotlib.lines.Line2D at 0x5ce994470>],\n",
       " 'caps': [<matplotlib.lines.Line2D at 0x5ce994740>,\n",
       "  <matplotlib.lines.Line2D at 0x5ce9949b0>],\n",
       " 'boxes': [<matplotlib.lines.Line2D at 0x5cea641a0>],\n",
       " 'medians': [<matplotlib.lines.Line2D at 0x5ce994c80>],\n",
       " 'fliers': [<matplotlib.lines.Line2D at 0x5ce994fb0>],\n",
       " 'means': []}"
      ]
     },
     "execution_count": 1049,
     "metadata": {},
     "output_type": "execute_result"
    },
    {
     "data": {
      "image/png": "[encoded data removed]",
      "text/plain": [
       "<Figure size 640x480 with 1 Axes>"
      ]
     },
     "metadata": {},
     "output_type": "display_data"
    }
   ],
   "source": [
    "#Distribution of int_rate after removing outliers\n",
    "\n",
    "plt.boxplot(loan_data_cleaned['int_rate'])"
   ]
  },
  {
   "cell_type": "code",
   "execution_count": 1050,
   "id": "4c34cbcc-7039-4669-952e-2df8bb95206f",
   "metadata": {},
   "outputs": [],
   "source": [
    "pd.set_option('display.float_format', lambda x: f'{x:.2f}')"
   ]
  },
  {
   "cell_type": "code",
   "execution_count": 1051,
   "id": "67f19485-d353-4d14-8ac3-aebc23a60572",
   "metadata": {},
   "outputs": [
    {
     "data": {
      "text/plain": [
       "count     35703.00\n",
       "mean      67671.15\n",
       "std       62690.41\n",
       "min        4000.00\n",
       "25%       40200.00\n",
       "50%       58000.00\n",
       "75%       80000.00\n",
       "max     6000000.00\n",
       "Name: annual_inc, dtype: float64"
      ]
     },
     "execution_count": 1051,
     "metadata": {},
     "output_type": "execute_result"
    },
    {
     "data": {
      "image/png": "[encoded data removed]",
      "text/plain": [
       "<Figure size 640x480 with 1 Axes>"
      ]
     },
     "metadata": {},
     "output_type": "display_data"
    }
   ],
   "source": [
    "#what is the distribution of annual income?\n",
    "\n",
    "plt.boxplot(loan_data_cleaned.annual_inc)\n",
    "loan_data_cleaned.annual_inc.describe()"
   ]
  },
  {
   "cell_type": "code",
   "execution_count": 1052,
   "id": "354a7505-b8c6-425c-90a4-ff70921d7ee1",
   "metadata": {},
   "outputs": [
    {
     "data": {
      "text/plain": [
       "{'whiskers': [<matplotlib.lines.Line2D at 0x5ce9d3860>,\n",
       "  <matplotlib.lines.Line2D at 0x5ce9d3b60>],\n",
       " 'caps': [<matplotlib.lines.Line2D at 0x5ce9d3e30>,\n",
       "  <matplotlib.lines.Line2D at 0x5cea00140>],\n",
       " 'boxes': [<matplotlib.lines.Line2D at 0x5ce9d2780>],\n",
       " 'medians': [<matplotlib.lines.Line2D at 0x5cea00470>],\n",
       " 'fliers': [<matplotlib.lines.Line2D at 0x5cea00770>],\n",
       " 'means': []}"
      ]
     },
     "execution_count": 1052,
     "metadata": {},
     "output_type": "execute_result"
    },
    {
     "data": {
      "image/png": "[encoded data removed]",
      "text/plain": [
       "<Figure size 640x480 with 1 Axes>"
      ]
     },
     "metadata": {},
     "output_type": "display_data"
    }
   ],
   "source": [
    "#Distribution of DTI\n",
    "\n",
    "plt.boxplot(loan_data_cleaned.dti)"
   ]
  },
  {
   "cell_type": "code",
   "execution_count": null,
   "id": "366873dc-0f7b-499b-98a0-955791a61bb4",
   "metadata": {},
   "outputs": [],
   "source": []
  },
  {
   "cell_type": "code",
   "execution_count": 1053,
   "id": "3c3a3700-fdc7-41da-b241-8dd1cbd3dcfb",
   "metadata": {},
   "outputs": [],
   "source": [
    "#looping to remove any further outliers\n",
    "\n",
    "cols_outlier = ['annual_inc']  # List of numeric columns\n",
    "for i in cols_outlier:\n",
    "    Q1 = loan_data_cleaned[i].quantile(0.25)\n",
    "    Q3 = loan_data_cleaned[i].quantile(0.75)\n",
    "    IQR = Q3 - Q1\n",
    "    lower_fence = Q1 - 1.5 * IQR\n",
    "    upper_fence = Q3 + 1.5 * IQR\n",
    "    loan_data_cleaned = loan_data_cleaned[(loan_data_cleaned[i] >= lower_fence) & (loan_data_cleaned[i] <= upper_fence)]"
   ]
  },
  {
   "cell_type": "code",
   "execution_count": 1054,
   "id": "a02caa44-6f57-4719-a5d7-6a70464a382c",
   "metadata": {},
   "outputs": [
    {
     "data": {
      "text/plain": [
       "count    33955.00\n",
       "mean     60314.44\n",
       "std      26826.58\n",
       "min       4000.00\n",
       "25%      40000.00\n",
       "50%      55200.00\n",
       "75%      76000.00\n",
       "max     139500.00\n",
       "Name: annual_inc, dtype: float64"
      ]
     },
     "execution_count": 1054,
     "metadata": {},
     "output_type": "execute_result"
    }
   ],
   "source": [
    "loan_data_cleaned.annual_inc.describe()"
   ]
  },
  {
   "cell_type": "code",
   "execution_count": 1055,
   "id": "4df78710-6f6c-40a1-bae9-a8a6ba62f07d",
   "metadata": {},
   "outputs": [
    {
     "data": {
      "text/plain": [
       "{'whiskers': [<matplotlib.lines.Line2D at 0x5cea01640>,\n",
       "  <matplotlib.lines.Line2D at 0x5ce87c770>],\n",
       " 'caps': [<matplotlib.lines.Line2D at 0x5cea9df10>,\n",
       "  <matplotlib.lines.Line2D at 0x5cea9f710>],\n",
       " 'boxes': [<matplotlib.lines.Line2D at 0x5ce9b2090>],\n",
       " 'medians': [<matplotlib.lines.Line2D at 0x5cea9f440>],\n",
       " 'fliers': [<matplotlib.lines.Line2D at 0x5cead6e70>],\n",
       " 'means': []}"
      ]
     },
     "execution_count": 1055,
     "metadata": {},
     "output_type": "execute_result"
    },
    {
     "data": {
      "image/png": "[encoded data removed]",
      "text/plain": [
       "<Figure size 640x480 with 1 Axes>"
      ]
     },
     "metadata": {},
     "output_type": "display_data"
    }
   ],
   "source": [
    "#Distribution of Annual income\n",
    "\n",
    "plt.boxplot(loan_data_cleaned.annual_inc)\n"
   ]
  },
  {
   "cell_type": "code",
   "execution_count": 1056,
   "id": "2d3fa80b-0340-46ac-8e96-eaa077edd761",
   "metadata": {
    "scrolled": true
   },
   "outputs": [
    {
     "data": {
      "text/plain": [
       "Text(0.5, 1.0, 'Debt-to-Income distribution')"
      ]
     },
     "execution_count": 1056,
     "metadata": {},
     "output_type": "execute_result"
    },
    {
     "data": {
      "image/png": "[encoded data removed]",
      "text/plain": [
       "<Figure size 640x480 with 1 Axes>"
      ]
     },
     "metadata": {},
     "output_type": "display_data"
    }
   ],
   "source": [
    "#Distribution of Debt-to-income ratio, dti\n",
    "\n",
    "plt.boxplot(loan_data_cleaned.dti)\n",
    "plt.title('Debt-to-Income distribution')"
   ]
  },
  {
   "cell_type": "code",
   "execution_count": 1057,
   "id": "7fdb1c6f-bddf-4c69-ae72-02276c990b47",
   "metadata": {},
   "outputs": [
    {
     "data": {
      "text/plain": [
       "Text(0.5, 1.0, 'Loans per term')"
      ]
     },
     "execution_count": 1057,
     "metadata": {},
     "output_type": "execute_result"
    },
    {
     "data": {
      "image/png": "[encoded data removed]",
      "text/plain": [
       "<Figure size 640x480 with 1 Axes>"
      ]
     },
     "metadata": {},
     "output_type": "display_data"
    }
   ],
   "source": [
    "#grouping term column to plot by term\n",
    "\n",
    "group_term = loan_data_cleaned.groupby('term')['loan_amnt'].count()\n",
    "\n",
    "plt.bar(['36 months','60 months'],group_term,width=0.4)\n",
    "plt.title('Loans per term')"
   ]
  },
  {
   "cell_type": "code",
   "execution_count": 1058,
   "id": "7562ceab-889c-4612-a225-cb1684b0a49d",
   "metadata": {},
   "outputs": [
    {
     "data": {
      "text/plain": [
       "Text(0.5, 1.0, 'Frequency of Loans per grade')"
      ]
     },
     "execution_count": 1058,
     "metadata": {},
     "output_type": "execute_result"
    },
    {
     "data": {
      "image/png": "[encoded data removed]",
      "text/plain": [
       "<Figure size 640x480 with 1 Axes>"
      ]
     },
     "metadata": {},
     "output_type": "display_data"
    }
   ],
   "source": [
    "# Plotting loan_amount vs grade\n",
    "\n",
    "grades= loan_data_cleaned.groupby('grade')['loan_amnt'].count()\n",
    "plt.bar(['A','B','C','D','E','F','G'],grades)\n",
    "plt.title('Frequency of Loans per grade')"
   ]
  },
  {
   "cell_type": "code",
   "execution_count": 1059,
   "id": "ba74d99b-1548-419e-8885-e0aee2f1781a",
   "metadata": {
    "scrolled": true
   },
   "outputs": [
    {
     "data": {
      "text/plain": [
       "Text(0.5, 0, 'In years')"
      ]
     },
     "execution_count": 1059,
     "metadata": {},
     "output_type": "execute_result"
    },
    {
     "data": {
      "image/png": "[encoded data removed]",
      "text/plain": [
       "<Figure size 640x480 with 1 Axes>"
      ]
     },
     "metadata": {},
     "output_type": "display_data"
    }
   ],
   "source": [
    "#Plotting employee length distribution\n",
    "\n",
    "plt.hist(loan_data_cleaned['emp_length'],bins=10,width=0.5)\n",
    "plt.title('Employment length distribution')\n",
    "plt.xlabel('In years')"
   ]
  },
  {
   "cell_type": "code",
   "execution_count": 1060,
   "id": "db159520-626e-47d9-8b7e-a26609eb0500",
   "metadata": {},
   "outputs": [
    {
     "data": {
      "text/plain": [
       "Text(0.5, 0, '')"
      ]
     },
     "execution_count": 1060,
     "metadata": {},
     "output_type": "execute_result"
    },
    {
     "data": {
      "image/png": "[encoded data removed]",
      "text/plain": [
       "<Figure size 640x480 with 1 Axes>"
      ]
     },
     "metadata": {},
     "output_type": "display_data"
    }
   ],
   "source": [
    "# Frequency of loan statuses \n",
    "\n",
    "status_freq= loan_data_cleaned['loan_status'].value_counts()\n",
    "status_freq.plot(kind='bar')\n",
    "plt.title('Frequency of loan status')\n",
    "plt.xticks(rotation=0)\n",
    "plt.xlabel(None)"
   ]
  },
  {
   "cell_type": "code",
   "execution_count": 1061,
   "id": "849464a0-1878-4244-8119-9accb1b86c08",
   "metadata": {
    "scrolled": true
   },
   "outputs": [
    {
     "data": {
      "text/plain": [
       "Text(0.5, 0, '')"
      ]
     },
     "execution_count": 1061,
     "metadata": {},
     "output_type": "execute_result"
    },
    {
     "data": {
      "image/png": "[encoded data removed]",
      "text/plain": [
       "<Figure size 800x600 with 1 Axes>"
      ]
     },
     "metadata": {},
     "output_type": "display_data"
    }
   ],
   "source": [
    "#what kind of accomodation do most of our applicants live in?\n",
    "\n",
    "plt.figure(figsize=(8, 6))\n",
    "loan_data_cleaned['home_ownership'].value_counts().plot.bar()\n",
    "plt.xlabel(None)\n"
   ]
  },
  {
   "cell_type": "code",
   "execution_count": null,
   "id": "bfd0a2c2-6195-4fb4-ad7d-66756b074eef",
   "metadata": {},
   "outputs": [],
   "source": []
  },
  {
   "cell_type": "code",
   "execution_count": 1062,
   "id": "3eec6ae9-49df-4294-9c49-97878d769236",
   "metadata": {},
   "outputs": [
    {
     "data": {
      "text/html": [
       "<div>\n",
       "<style scoped>\n",
       "    .dataframe tbody tr th:only-of-type {\n",
       "        vertical-align: middle;\n",
       "    }\n",
       "\n",
       "    .dataframe tbody tr th {\n",
       "        vertical-align: top;\n",
       "    }\n",
       "\n",
       "    .dataframe thead th {\n",
       "        text-align: right;\n",
       "    }\n",
       "</style>\n",
       "<table border=\"1\" class=\"dataframe\">\n",
       "  <thead>\n",
       "    <tr style=\"text-align: right;\">\n",
       "      <th></th>\n",
       "      <th>id</th>\n",
       "      <th>member_id</th>\n",
       "      <th>loan_amnt</th>\n",
       "      <th>funded_amnt</th>\n",
       "      <th>funded_amnt_inv</th>\n",
       "      <th>term</th>\n",
       "      <th>int_rate</th>\n",
       "      <th>installment</th>\n",
       "      <th>grade</th>\n",
       "      <th>sub_grade</th>\n",
       "      <th>...</th>\n",
       "      <th>desc</th>\n",
       "      <th>purpose</th>\n",
       "      <th>title</th>\n",
       "      <th>zip_code</th>\n",
       "      <th>addr_state</th>\n",
       "      <th>dti</th>\n",
       "      <th>revol_bal</th>\n",
       "      <th>revol_util</th>\n",
       "      <th>total_acc</th>\n",
       "      <th>pub_rec_bankruptcies</th>\n",
       "    </tr>\n",
       "    <tr>\n",
       "      <th>loan_status</th>\n",
       "      <th></th>\n",
       "      <th></th>\n",
       "      <th></th>\n",
       "      <th></th>\n",
       "      <th></th>\n",
       "      <th></th>\n",
       "      <th></th>\n",
       "      <th></th>\n",
       "      <th></th>\n",
       "      <th></th>\n",
       "      <th></th>\n",
       "      <th></th>\n",
       "      <th></th>\n",
       "      <th></th>\n",
       "      <th></th>\n",
       "      <th></th>\n",
       "      <th></th>\n",
       "      <th></th>\n",
       "      <th></th>\n",
       "      <th></th>\n",
       "      <th></th>\n",
       "    </tr>\n",
       "  </thead>\n",
       "  <tbody>\n",
       "    <tr>\n",
       "      <th>Charged Off</th>\n",
       "      <td>4824</td>\n",
       "      <td>4824</td>\n",
       "      <td>4824</td>\n",
       "      <td>4824</td>\n",
       "      <td>4824</td>\n",
       "      <td>4824</td>\n",
       "      <td>4824</td>\n",
       "      <td>4824</td>\n",
       "      <td>4824</td>\n",
       "      <td>4824</td>\n",
       "      <td>...</td>\n",
       "      <td>3249</td>\n",
       "      <td>4824</td>\n",
       "      <td>4823</td>\n",
       "      <td>4824</td>\n",
       "      <td>4824</td>\n",
       "      <td>4824</td>\n",
       "      <td>4824</td>\n",
       "      <td>4824</td>\n",
       "      <td>4824</td>\n",
       "      <td>4824</td>\n",
       "    </tr>\n",
       "    <tr>\n",
       "      <th>Fully Paid</th>\n",
       "      <td>29131</td>\n",
       "      <td>29131</td>\n",
       "      <td>29131</td>\n",
       "      <td>29131</td>\n",
       "      <td>29131</td>\n",
       "      <td>29131</td>\n",
       "      <td>29131</td>\n",
       "      <td>29131</td>\n",
       "      <td>29131</td>\n",
       "      <td>29131</td>\n",
       "      <td>...</td>\n",
       "      <td>19627</td>\n",
       "      <td>29131</td>\n",
       "      <td>29122</td>\n",
       "      <td>29131</td>\n",
       "      <td>29131</td>\n",
       "      <td>29131</td>\n",
       "      <td>29131</td>\n",
       "      <td>29131</td>\n",
       "      <td>29131</td>\n",
       "      <td>29131</td>\n",
       "    </tr>\n",
       "  </tbody>\n",
       "</table>\n",
       "<p>2 rows × 26 columns</p>\n",
       "</div>"
      ],
      "text/plain": [
       "                id  member_id  loan_amnt  funded_amnt  funded_amnt_inv   term  \\\n",
       "loan_status                                                                     \n",
       "Charged Off   4824       4824       4824         4824             4824   4824   \n",
       "Fully Paid   29131      29131      29131        29131            29131  29131   \n",
       "\n",
       "             int_rate  installment  grade  sub_grade  ...   desc  purpose  \\\n",
       "loan_status                                           ...                   \n",
       "Charged Off      4824         4824   4824       4824  ...   3249     4824   \n",
       "Fully Paid      29131        29131  29131      29131  ...  19627    29131   \n",
       "\n",
       "             title  zip_code  addr_state    dti  revol_bal  revol_util  \\\n",
       "loan_status                                                              \n",
       "Charged Off   4823      4824        4824   4824       4824        4824   \n",
       "Fully Paid   29122     29131       29131  29131      29131       29131   \n",
       "\n",
       "             total_acc  pub_rec_bankruptcies  \n",
       "loan_status                                   \n",
       "Charged Off       4824                  4824  \n",
       "Fully Paid       29131                 29131  \n",
       "\n",
       "[2 rows x 26 columns]"
      ]
     },
     "execution_count": 1062,
     "metadata": {},
     "output_type": "execute_result"
    }
   ],
   "source": [
    "new_loan_df=loan_data_cleaned.groupby('loan_status').count()\n",
    "new_loan_df\n"
   ]
  },
  {
   "cell_type": "code",
   "execution_count": 1063,
   "id": "2e1cdffb-226a-4763-9d2d-1ad0da09c2c8",
   "metadata": {},
   "outputs": [
    {
     "data": {
      "text/plain": [
       "Text(0.5, 0, '')"
      ]
     },
     "execution_count": 1063,
     "metadata": {},
     "output_type": "execute_result"
    },
    {
     "data": {
      "image/png": "[encoded data removed]",
      "text/plain": [
       "<Figure size 640x480 with 1 Axes>"
      ]
     },
     "metadata": {},
     "output_type": "display_data"
    }
   ],
   "source": [
    "#Loan amount vs Loan status\n",
    "\n",
    "loan_amnt_avg= loan_data_cleaned.groupby('loan_status')['loan_amnt'].mean()\n",
    "loan_amnt_avg.plot(kind='bar')\n",
    "plt.xticks(rotation=0)\n",
    "plt.title('Loan amount vs. Loan status')\n",
    "plt.xlabel(None)"
   ]
  },
  {
   "cell_type": "code",
   "execution_count": 1064,
   "id": "dac6aaa5-347a-495d-a6bd-b98b6abe6f94",
   "metadata": {},
   "outputs": [],
   "source": [
    "#segmented univariate boxplot annual income\n",
    "\n",
    "import seaborn as sns"
   ]
  },
  {
   "cell_type": "code",
   "execution_count": 1065,
   "id": "c529f1ea-292a-4482-80b6-3b8f692fdded",
   "metadata": {
    "scrolled": true
   },
   "outputs": [
    {
     "data": {
      "image/png": "[encoded data removed]",
      "text/plain": [
       "<Figure size 600x400 with 1 Axes>"
      ]
     },
     "metadata": {},
     "output_type": "display_data"
    }
   ],
   "source": [
    "#segmented univariate boxplot annual income\n",
    "\n",
    "plt.figure(figsize=(6, 4))\n",
    "sns.boxplot(x='loan_status', y='annual_inc', data=loan_data_cleaned)\n",
    "plt.title('Loan status vs Annual income')\n",
    "plt.ylabel('Annual Inc')\n",
    "plt.xlabel(None)\n",
    "plt.show()"
   ]
  },
  {
   "cell_type": "code",
   "execution_count": null,
   "id": "c9444379-5c2d-4f26-8846-4b13ee1e621e",
   "metadata": {},
   "outputs": [],
   "source": []
  },
  {
   "cell_type": "code",
   "execution_count": 1066,
   "id": "b78985d3-e86a-4d9f-94af-7edc624c5979",
   "metadata": {},
   "outputs": [
    {
     "data": {
      "text/plain": [
       "Text(0, 0.5, 'Loan Amount')"
      ]
     },
     "execution_count": 1066,
     "metadata": {},
     "output_type": "execute_result"
    },
    {
     "data": {
      "image/png": "[encoded data removed]",
      "text/plain": [
       "<Figure size 800x600 with 1 Axes>"
      ]
     },
     "metadata": {},
     "output_type": "display_data"
    }
   ],
   "source": [
    "#segmented analysis by verification status\n",
    "\n",
    "plt.figure(figsize=(8, 6))\n",
    "sns.barplot(data=loan_data_cleaned, x='loan_status', y='loan_amnt', hue='verification_status')\n",
    "plt.xlabel(None)\n",
    "plt.ylabel('Loan Amount')"
   ]
  },
  {
   "cell_type": "code",
   "execution_count": 1067,
   "id": "ee7dea9a-36cf-49a2-a2c1-c1d6e5f0a9ff",
   "metadata": {},
   "outputs": [
    {
     "data": {
      "text/plain": [
       "Text(0, 0.5, 'Loan Amount')"
      ]
     },
     "execution_count": 1067,
     "metadata": {},
     "output_type": "execute_result"
    },
    {
     "data": {
      "image/png": "[encoded data removed]",
      "text/plain": [
       "<Figure size 800x600 with 1 Axes>"
      ]
     },
     "metadata": {},
     "output_type": "display_data"
    }
   ],
   "source": [
    "# who gets higher loan amounts, verfied or unverified?\n",
    "\n",
    "plt.figure(figsize=(8, 6))\n",
    "sns.barplot(data=loan_data_cleaned, x='verification_status', y='loan_amnt',hue='verification_status')\n",
    "plt.xlabel(None)\n",
    "plt.ylabel('Loan Amount')"
   ]
  },
  {
   "cell_type": "code",
   "execution_count": 1068,
   "id": "cdc0e7b4-2699-415a-b6ac-58ffabf650e3",
   "metadata": {
    "scrolled": true
   },
   "outputs": [],
   "source": [
    "#To plot loan amount vs annual income, creating income buckets\n",
    "\n",
    "def bucket(annual_income):\n",
    "    if annual_income <= 40000:\n",
    "        return '0-40k'\n",
    "    elif annual_income <= 80000:\n",
    "        return '40-80k'\n",
    "    elif annual_income <= 150000:\n",
    "        return '80-150k'\n",
    "    else:\n",
    "        return 'above 150k'\n",
    "\n",
    "loan_data_cleaned['Income groups']= loan_data_cleaned['annual_inc'].apply(bucket)"
   ]
  },
  {
   "cell_type": "code",
   "execution_count": 1069,
   "id": "b5b8f6eb-d131-4a65-9735-7c7fc36de33a",
   "metadata": {},
   "outputs": [
    {
     "data": {
      "text/plain": [
       "0         0-40k\n",
       "1         0-40k\n",
       "2         0-40k\n",
       "3        40-80k\n",
       "5         0-40k\n",
       "          ...  \n",
       "39562     0-40k\n",
       "39573    40-80k\n",
       "39623     0-40k\n",
       "39666     0-40k\n",
       "39680     0-40k\n",
       "Name: Income groups, Length: 33955, dtype: object"
      ]
     },
     "execution_count": 1069,
     "metadata": {},
     "output_type": "execute_result"
    }
   ],
   "source": [
    "loan_data_cleaned['Income groups']"
   ]
  },
  {
   "cell_type": "code",
   "execution_count": 1070,
   "id": "69c3cf54-acd1-44c5-bb68-991083e4a7a0",
   "metadata": {},
   "outputs": [
    {
     "data": {
      "text/plain": [
       "Text(0, 0.5, 'Loan Frequency')"
      ]
     },
     "execution_count": 1070,
     "metadata": {},
     "output_type": "execute_result"
    },
    {
     "data": {
      "image/png": "[encoded data removed]",
      "text/plain": [
       "<Figure size 800x600 with 1 Axes>"
      ]
     },
     "metadata": {},
     "output_type": "display_data"
    }
   ],
   "source": [
    "#Plotting loans per income group\n",
    "\n",
    "plt.figure(figsize=(8, 6))\n",
    "plt.hist(loan_data_cleaned['Income groups'],width=0.25)\n",
    "plt.xlabel('Income groups')\n",
    "plt.ylabel('Loan Frequency')"
   ]
  },
  {
   "cell_type": "code",
   "execution_count": 1071,
   "id": "cf613e0f-098b-427f-82e0-9606cd2575e8",
   "metadata": {
    "scrolled": true
   },
   "outputs": [],
   "source": [
    "#creating year column from issue date \n",
    "\n",
    "loan_data_cleaned['year'] = loan_data_cleaned['issue_d'].dt.year\n",
    "\n"
   ]
  },
  {
   "cell_type": "code",
   "execution_count": 1072,
   "id": "7c159f4a-e382-4e1c-8996-981313075752",
   "metadata": {},
   "outputs": [],
   "source": [
    "#plotting top-10 charged off loans per state\n",
    "\n",
    "state_wise_chargeoff=loan_data_chargedoff.groupby('addr_state')['loan_status'].count()\n",
    "state_wise_chargeoff=pd.DataFrame(state_wise_chargeoff)\n",
    "state_wise_chargeoff.reset_index()\n",
    "top_10_statewise=state_wise_chargeoff[state_wise_chargeoff['loan_status']>100]\n"
   ]
  },
  {
   "cell_type": "code",
   "execution_count": 1073,
   "id": "4139c3d1-059e-4e24-bcbb-b312d4706f8a",
   "metadata": {},
   "outputs": [
    {
     "name": "stderr",
     "output_type": "stream",
     "text": [
      "/var/folders/ld/knz66s750qgb_2by_6ff63sm0000gp/T/ipykernel_4916/3611356427.py:1: SettingWithCopyWarning: \n",
      "A value is trying to be set on a copy of a slice from a DataFrame.\n",
      "Try using .loc[row_indexer,col_indexer] = value instead\n",
      "\n",
      "See the caveats in the documentation: https://pandas.pydata.org/pandas-docs/stable/user_guide/indexing.html#returning-a-view-versus-a-copy\n",
      "  top_10_statewise['addr_state'] = top_10_statewise.index\n"
     ]
    }
   ],
   "source": [
    "top_10_statewise['addr_state'] = top_10_statewise.index\n",
    "top_10_statewise = top_10_statewise.reset_index(drop=True)"
   ]
  },
  {
   "cell_type": "code",
   "execution_count": 1074,
   "id": "6cba45c8-3586-4e61-9aff-278277433372",
   "metadata": {},
   "outputs": [
    {
     "data": {
      "text/html": [
       "<div>\n",
       "<style scoped>\n",
       "    .dataframe tbody tr th:only-of-type {\n",
       "        vertical-align: middle;\n",
       "    }\n",
       "\n",
       "    .dataframe tbody tr th {\n",
       "        vertical-align: top;\n",
       "    }\n",
       "\n",
       "    .dataframe thead th {\n",
       "        text-align: right;\n",
       "    }\n",
       "</style>\n",
       "<table border=\"1\" class=\"dataframe\">\n",
       "  <thead>\n",
       "    <tr style=\"text-align: right;\">\n",
       "      <th></th>\n",
       "      <th>loan_status</th>\n",
       "      <th>addr_state</th>\n",
       "    </tr>\n",
       "  </thead>\n",
       "  <tbody>\n",
       "    <tr>\n",
       "      <th>0</th>\n",
       "      <td>112</td>\n",
       "      <td>AZ</td>\n",
       "    </tr>\n",
       "    <tr>\n",
       "      <th>1</th>\n",
       "      <td>1002</td>\n",
       "      <td>CA</td>\n",
       "    </tr>\n",
       "    <tr>\n",
       "      <th>2</th>\n",
       "      <td>443</td>\n",
       "      <td>FL</td>\n",
       "    </tr>\n",
       "    <tr>\n",
       "      <th>3</th>\n",
       "      <td>192</td>\n",
       "      <td>GA</td>\n",
       "    </tr>\n",
       "    <tr>\n",
       "      <th>4</th>\n",
       "      <td>183</td>\n",
       "      <td>IL</td>\n",
       "    </tr>\n",
       "    <tr>\n",
       "      <th>5</th>\n",
       "      <td>143</td>\n",
       "      <td>MA</td>\n",
       "    </tr>\n",
       "    <tr>\n",
       "      <th>6</th>\n",
       "      <td>143</td>\n",
       "      <td>MD</td>\n",
       "    </tr>\n",
       "    <tr>\n",
       "      <th>7</th>\n",
       "      <td>103</td>\n",
       "      <td>MO</td>\n",
       "    </tr>\n",
       "    <tr>\n",
       "      <th>8</th>\n",
       "      <td>257</td>\n",
       "      <td>NJ</td>\n",
       "    </tr>\n",
       "    <tr>\n",
       "      <th>9</th>\n",
       "      <td>441</td>\n",
       "      <td>NY</td>\n",
       "    </tr>\n",
       "    <tr>\n",
       "      <th>10</th>\n",
       "      <td>138</td>\n",
       "      <td>OH</td>\n",
       "    </tr>\n",
       "    <tr>\n",
       "      <th>11</th>\n",
       "      <td>159</td>\n",
       "      <td>PA</td>\n",
       "    </tr>\n",
       "    <tr>\n",
       "      <th>12</th>\n",
       "      <td>285</td>\n",
       "      <td>TX</td>\n",
       "    </tr>\n",
       "    <tr>\n",
       "      <th>13</th>\n",
       "      <td>159</td>\n",
       "      <td>VA</td>\n",
       "    </tr>\n",
       "    <tr>\n",
       "      <th>14</th>\n",
       "      <td>113</td>\n",
       "      <td>WA</td>\n",
       "    </tr>\n",
       "  </tbody>\n",
       "</table>\n",
       "</div>"
      ],
      "text/plain": [
       "    loan_status addr_state\n",
       "0           112         AZ\n",
       "1          1002         CA\n",
       "2           443         FL\n",
       "3           192         GA\n",
       "4           183         IL\n",
       "5           143         MA\n",
       "6           143         MD\n",
       "7           103         MO\n",
       "8           257         NJ\n",
       "9           441         NY\n",
       "10          138         OH\n",
       "11          159         PA\n",
       "12          285         TX\n",
       "13          159         VA\n",
       "14          113         WA"
      ]
     },
     "execution_count": 1074,
     "metadata": {},
     "output_type": "execute_result"
    }
   ],
   "source": [
    "top_10_statewise "
   ]
  },
  {
   "cell_type": "code",
   "execution_count": 1075,
   "id": "31756666-6e4d-415f-9d07-577c450378a6",
   "metadata": {},
   "outputs": [
    {
     "data": {
      "text/plain": [
       "Text(0.5, 0, 'Top 10 defaulting states')"
      ]
     },
     "execution_count": 1075,
     "metadata": {},
     "output_type": "execute_result"
    },
    {
     "data": {
      "image/png": "[encoded data removed]",
      "text/plain": [
       "<Figure size 640x480 with 1 Axes>"
      ]
     },
     "metadata": {},
     "output_type": "display_data"
    }
   ],
   "source": [
    "#plotting top-10 charged off loans per state\n",
    "\n",
    "plt.bar(top_10_statewise['addr_state'],top_10_statewise['loan_status'])\n",
    "plt.xlabel('Top 10 defaulting states')"
   ]
  },
  {
   "cell_type": "code",
   "execution_count": 1076,
   "id": "640f7316-6bd6-42b9-96e2-39c8257094c8",
   "metadata": {},
   "outputs": [],
   "source": [
    "#term vs. loan status\n",
    "\n",
    "termwise_status= loan_data_chargedoff.groupby('term')['loan_status'].count()\n",
    "termwise_status=pd.DataFrame(termwise_status)\n",
    "termwise_status.reset_index()\n",
    "termwise_status['term']=termwise_status.index\n"
   ]
  },
  {
   "cell_type": "code",
   "execution_count": 1077,
   "id": "26e08bab-2714-486b-8bdd-c4c1bfb88f90",
   "metadata": {},
   "outputs": [
    {
     "data": {
      "text/html": [
       "<div>\n",
       "<style scoped>\n",
       "    .dataframe tbody tr th:only-of-type {\n",
       "        vertical-align: middle;\n",
       "    }\n",
       "\n",
       "    .dataframe tbody tr th {\n",
       "        vertical-align: top;\n",
       "    }\n",
       "\n",
       "    .dataframe thead th {\n",
       "        text-align: right;\n",
       "    }\n",
       "</style>\n",
       "<table border=\"1\" class=\"dataframe\">\n",
       "  <thead>\n",
       "    <tr style=\"text-align: right;\">\n",
       "      <th></th>\n",
       "      <th>loan_status</th>\n",
       "      <th>term</th>\n",
       "    </tr>\n",
       "    <tr>\n",
       "      <th>term</th>\n",
       "      <th></th>\n",
       "      <th></th>\n",
       "    </tr>\n",
       "  </thead>\n",
       "  <tbody>\n",
       "    <tr>\n",
       "      <th>36.00</th>\n",
       "      <td>2929</td>\n",
       "      <td>36.00</td>\n",
       "    </tr>\n",
       "    <tr>\n",
       "      <th>60.00</th>\n",
       "      <td>2105</td>\n",
       "      <td>60.00</td>\n",
       "    </tr>\n",
       "  </tbody>\n",
       "</table>\n",
       "</div>"
      ],
      "text/plain": [
       "       loan_status  term\n",
       "term                    \n",
       "36.00         2929 36.00\n",
       "60.00         2105 60.00"
      ]
     },
     "execution_count": 1077,
     "metadata": {},
     "output_type": "execute_result"
    }
   ],
   "source": [
    "termwise_status"
   ]
  },
  {
   "cell_type": "code",
   "execution_count": 1078,
   "id": "ac9fbc21-3455-4d96-88f9-270c753c4b62",
   "metadata": {},
   "outputs": [
    {
     "data": {
      "text/plain": [
       "Text(0, 0.5, 'Charged off count')"
      ]
     },
     "execution_count": 1078,
     "metadata": {},
     "output_type": "execute_result"
    },
    {
     "data": {
      "image/png": "[encoded data removed]",
      "text/plain": [
       "<Figure size 640x480 with 1 Axes>"
      ]
     },
     "metadata": {},
     "output_type": "display_data"
    }
   ],
   "source": [
    "sns.barplot(data=termwise_status, x='term', y='loan_status')\n",
    "plt.ylabel('Charged off count')"
   ]
  },
  {
   "cell_type": "code",
   "execution_count": 1079,
   "id": "e596a2d0-73c0-4648-8276-1bc571c7a48e",
   "metadata": {},
   "outputs": [
    {
     "data": {
      "text/plain": [
       "Text(0.5, 0, '')"
      ]
     },
     "execution_count": 1079,
     "metadata": {},
     "output_type": "execute_result"
    },
    {
     "data": {
      "image/png": "[encoded data removed]",
      "text/plain": [
       "<Figure size 640x480 with 1 Axes>"
      ]
     },
     "metadata": {},
     "output_type": "display_data"
    }
   ],
   "source": [
    "#plotting average interest rate by loan status\n",
    "\n",
    "avg_int_bystatus= loan_data_cleaned.groupby('loan_status')['int_rate'].mean() \n",
    "avg_int_bystatus=pd.DataFrame(avg_int_bystatus)\n",
    "avg_int_bystatus\n",
    "avg_int_bystatus.plot(kind='bar')\n",
    "plt.xticks(rotation=0)\n",
    "plt.ylabel('Avg. interest')\n",
    "plt.xlabel(None)"
   ]
  },
  {
   "cell_type": "code",
   "execution_count": 1080,
   "id": "7c299956-e909-4c67-8af5-bfc9dcb5a0f8",
   "metadata": {},
   "outputs": [
    {
     "data": {
      "text/html": [
       "<div>\n",
       "<style scoped>\n",
       "    .dataframe tbody tr th:only-of-type {\n",
       "        vertical-align: middle;\n",
       "    }\n",
       "\n",
       "    .dataframe tbody tr th {\n",
       "        vertical-align: top;\n",
       "    }\n",
       "\n",
       "    .dataframe thead th {\n",
       "        text-align: right;\n",
       "    }\n",
       "</style>\n",
       "<table border=\"1\" class=\"dataframe\">\n",
       "  <thead>\n",
       "    <tr style=\"text-align: right;\">\n",
       "      <th></th>\n",
       "      <th>loan_status</th>\n",
       "    </tr>\n",
       "    <tr>\n",
       "      <th>grade</th>\n",
       "      <th></th>\n",
       "    </tr>\n",
       "  </thead>\n",
       "  <tbody>\n",
       "    <tr>\n",
       "      <th>A</th>\n",
       "      <td>549</td>\n",
       "    </tr>\n",
       "    <tr>\n",
       "      <th>B</th>\n",
       "      <td>1295</td>\n",
       "    </tr>\n",
       "    <tr>\n",
       "      <th>C</th>\n",
       "      <td>1218</td>\n",
       "    </tr>\n",
       "    <tr>\n",
       "      <th>D</th>\n",
       "      <td>1014</td>\n",
       "    </tr>\n",
       "    <tr>\n",
       "      <th>E</th>\n",
       "      <td>614</td>\n",
       "    </tr>\n",
       "    <tr>\n",
       "      <th>F</th>\n",
       "      <td>259</td>\n",
       "    </tr>\n",
       "    <tr>\n",
       "      <th>G</th>\n",
       "      <td>85</td>\n",
       "    </tr>\n",
       "  </tbody>\n",
       "</table>\n",
       "</div>"
      ],
      "text/plain": [
       "       loan_status\n",
       "grade             \n",
       "A              549\n",
       "B             1295\n",
       "C             1218\n",
       "D             1014\n",
       "E              614\n",
       "F              259\n",
       "G               85"
      ]
     },
     "execution_count": 1080,
     "metadata": {},
     "output_type": "execute_result"
    }
   ],
   "source": [
    "#plotting charged off loans by grade\n",
    "\n",
    "grade_vs_chargedoff= loan_data_chargedoff.groupby('grade')['loan_status'].count() \n",
    "grade_vs_chargedoff=pd.DataFrame(grade_vs_chargedoff)\n",
    "grade_vs_chargedoff"
   ]
  },
  {
   "cell_type": "code",
   "execution_count": 1081,
   "id": "7307fa48-6dfc-44c4-8160-ce306eb05015",
   "metadata": {},
   "outputs": [
    {
     "data": {
      "text/plain": [
       "Text(0, 0.5, 'Charge off count')"
      ]
     },
     "execution_count": 1081,
     "metadata": {},
     "output_type": "execute_result"
    },
    {
     "data": {
      "image/png": "[encoded data removed]",
      "text/plain": [
       "<Figure size 640x480 with 1 Axes>"
      ]
     },
     "metadata": {},
     "output_type": "display_data"
    }
   ],
   "source": [
    "#plotting charged off loans by grade\n",
    "\n",
    "grade_vs_chargedoff.plot(kind='bar')\n",
    "plt.xticks(rotation=0)\n",
    "plt.ylabel('Charge off count')"
   ]
  },
  {
   "cell_type": "code",
   "execution_count": 1082,
   "id": "02be59a0-e66b-4a62-a9f1-8ebcef170976",
   "metadata": {},
   "outputs": [
    {
     "data": {
      "image/png": "[encoded data removed]",
      "text/plain": [
       "<Figure size 640x480 with 1 Axes>"
      ]
     },
     "metadata": {},
     "output_type": "display_data"
    }
   ],
   "source": [
    "#Segmented analysis of interest rate\n",
    "\n",
    "grade_order = ['A', 'B', 'C', 'D', 'E', 'F', 'G']\n",
    "sns.boxplot(data=loan_data_cleaned, x='grade', y='dti',order=grade_order)\n",
    "plt.xlabel(\"Grade\")\n",
    "plt.ylabel(\"Int Rate\")\n",
    "plt.show()"
   ]
  },
  {
   "cell_type": "code",
   "execution_count": 1083,
   "id": "5842172e-289f-4d2b-8057-568e16af7d88",
   "metadata": {},
   "outputs": [],
   "source": [
    "loan_data_cleaned.to_csv('loan_data_cleaned.csv', index=False)"
   ]
  },
  {
   "cell_type": "code",
   "execution_count": 1084,
   "id": "3ade660f-7eab-484f-aaec-95387a9e4fde",
   "metadata": {},
   "outputs": [
    {
     "data": {
      "text/plain": [
       "(array([ 0,  1,  2,  3,  4,  5,  6,  7,  8,  9, 10, 11, 12, 13]),\n",
       " [Text(0, 0, 'car'),\n",
       "  Text(1, 0, 'credit_card'),\n",
       "  Text(2, 0, 'debt_consolidation'),\n",
       "  Text(3, 0, 'educational'),\n",
       "  Text(4, 0, 'home_improvement'),\n",
       "  Text(5, 0, 'house'),\n",
       "  Text(6, 0, 'major_purchase'),\n",
       "  Text(7, 0, 'medical'),\n",
       "  Text(8, 0, 'moving'),\n",
       "  Text(9, 0, 'other'),\n",
       "  Text(10, 0, 'renewable_energy'),\n",
       "  Text(11, 0, 'small_business'),\n",
       "  Text(12, 0, 'vacation'),\n",
       "  Text(13, 0, 'wedding')])"
      ]
     },
     "execution_count": 1084,
     "metadata": {},
     "output_type": "execute_result"
    },
    {
     "data": {
      "image/png": "[encoded data removed]",
      "text/plain": [
       "<Figure size 640x480 with 1 Axes>"
      ]
     },
     "metadata": {},
     "output_type": "display_data"
    }
   ],
   "source": [
    "#what was the main purposes of charged off loans?\n",
    "\n",
    "purpose_chargedoff= loan_data_chargedoff.groupby('purpose')['loan_status'].count() \n",
    "purpose_chargedoff.plot(kind='bar')\n",
    "plt.xticks(rotation=90) "
   ]
  },
  {
   "cell_type": "code",
   "execution_count": null,
   "id": "0056be93-b075-4fac-9ed2-05e0baa89790",
   "metadata": {},
   "outputs": [],
   "source": []
  }
 ],
 "metadata": {
  "kernelspec": {
   "display_name": "Python 3 (ipykernel)",
   "language": "python",
   "name": "python3"
  },
  "language_info": {
   "codemirror_mode": {
    "name": "ipython",
    "version": 3
   },
   "file_extension": ".py",
   "mimetype": "text/x-python",
   "name": "python",
   "nbconvert_exporter": "python",
   "pygments_lexer": "ipython3",
   "version": "3.12.4"
  }
 },
 "nbformat": 4,
 "nbformat_minor": 5
}
